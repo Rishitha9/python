{
 "cells": [
  {
   "cell_type": "code",
   "execution_count": 6,
   "metadata": {},
   "outputs": [
    {
     "name": "stdout",
     "output_type": "stream",
     "text": [
      "a=  10\n",
      "b=  20\n",
      "a=  20\n",
      "b=  10\n"
     ]
    }
   ],
   "source": [
    "a = 10\n",
    "b = 20\n",
    "print(\"a= \",a)\n",
    "print(\"b= \",b)\n",
    "b,a=a,b\n",
    "print(\"a= \",a)\n",
    "print(\"b= \",b)"
   ]
  },
  {
   "cell_type": "markdown",
   "metadata": {},
   "source": [
    "# 1) Integer data type - int"
   ]
  },
  {
   "cell_type": "code",
   "execution_count": 7,
   "metadata": {},
   "outputs": [
    {
     "name": "stdout",
     "output_type": "stream",
     "text": [
      "10\n",
      "<class 'int'>\n"
     ]
    }
   ],
   "source": [
    "a=10\n",
    "print(a)\n",
    "print(type(a))"
   ]
  },
  {
   "cell_type": "markdown",
   "metadata": {},
   "source": [
    "2)Real world data type"
   ]
  },
  {
   "cell_type": "code",
   "execution_count": 9,
   "metadata": {},
   "outputs": [
    {
     "name": "stdout",
     "output_type": "stream",
     "text": [
      "19.9\n",
      "<class 'float'>\n"
     ]
    }
   ],
   "source": [
    "b = 19.9\n",
    "print(b)\n",
    "print(type(b))"
   ]
  },
  {
   "cell_type": "markdown",
   "metadata": {},
   "source": [
    "3)Character data type"
   ]
  },
  {
   "cell_type": "code",
   "execution_count": 10,
   "metadata": {},
   "outputs": [
    {
     "name": "stdout",
     "output_type": "stream",
     "text": [
      "UNIQUE\n",
      "<class 'str'>\n"
     ]
    }
   ],
   "source": [
    "c = \"UNIQUE\"\n",
    "print(c)\n",
    "print(type(c))"
   ]
  },
  {
   "cell_type": "markdown",
   "metadata": {},
   "source": [
    "4)Complex numbers"
   ]
  },
  {
   "cell_type": "code",
   "execution_count": 11,
   "metadata": {},
   "outputs": [
    {
     "name": "stdout",
     "output_type": "stream",
     "text": [
      "(3+6j)\n",
      "<class 'complex'>\n"
     ]
    }
   ],
   "source": [
    "d = 3+6j\n",
    "print(d)\n",
    "print(type(d))"
   ]
  },
  {
   "cell_type": "markdown",
   "metadata": {},
   "source": [
    "5)Boolean - bool"
   ]
  },
  {
   "cell_type": "code",
   "execution_count": 12,
   "metadata": {},
   "outputs": [
    {
     "name": "stdout",
     "output_type": "stream",
     "text": [
      "False\n",
      "<class 'bool'>\n"
     ]
    }
   ],
   "source": [
    "e = 5>6\n",
    "print(e)\n",
    "print(type(e))"
   ]
  },
  {
   "cell_type": "markdown",
   "metadata": {},
   "source": [
    "Lists"
   ]
  },
  {
   "cell_type": "code",
   "execution_count": 13,
   "metadata": {},
   "outputs": [
    {
     "name": "stdout",
     "output_type": "stream",
     "text": [
      "[23, 43, 22, 45, 54, 22]\n",
      "<class 'list'>\n"
     ]
    }
   ],
   "source": [
    "lst = [23,43,22,45,54,22]\n",
    "print(lst)\n",
    "print(type(lst))"
   ]
  },
  {
   "cell_type": "code",
   "execution_count": 14,
   "metadata": {},
   "outputs": [
    {
     "name": "stdout",
     "output_type": "stream",
     "text": [
      "[10, 19.9, 'UNIQUE', True]\n",
      "<class 'list'>\n",
      "10\n",
      "10\n"
     ]
    }
   ],
   "source": [
    "lst = [10,19.9,\"UNIQUE\",True]\n",
    "print(lst)\n",
    "print(type(lst))\n",
    "\n",
    "print(lst[0])\n",
    "print(lst[-4])"
   ]
  },
  {
   "cell_type": "markdown",
   "metadata": {},
   "source": [
    "Lists are mutable"
   ]
  },
  {
   "cell_type": "code",
   "execution_count": 15,
   "metadata": {},
   "outputs": [
    {
     "name": "stdout",
     "output_type": "stream",
     "text": [
      "[10, 19.9, 'UNIQUE', True]\n",
      "<class 'list'>\n",
      "[10, 19.9, 'UNIQUE', True, 200]\n",
      "[10, 19.9, 'UNIQUE', True]\n"
     ]
    }
   ],
   "source": [
    "lst = [10,19.9,\"UNIQUE\",True]\n",
    "print(lst)\n",
    "print(type(lst))\n",
    "lst.append(200)\n",
    "print(lst)\n",
    "\n",
    "lst.remove(200)\n",
    "print(lst)"
   ]
  },
  {
   "cell_type": "markdown",
   "metadata": {},
   "source": [
    "Tuple"
   ]
  },
  {
   "cell_type": "code",
   "execution_count": 16,
   "metadata": {},
   "outputs": [
    {
     "name": "stdout",
     "output_type": "stream",
     "text": [
      "(2, 18.8, 'RIshitha', False)\n",
      "<class 'tuple'>\n",
      "2\n",
      "2\n"
     ]
    }
   ],
   "source": [
    "t = (2,18.8,\"RIshitha\",False)\n",
    "print(t)\n",
    "print(type(t))\n",
    "print(t[0])\n",
    "print(t[-4])"
   ]
  },
  {
   "cell_type": "markdown",
   "metadata": {},
   "source": [
    "Tuple are immutable"
   ]
  },
  {
   "cell_type": "code",
   "execution_count": 17,
   "metadata": {},
   "outputs": [
    {
     "name": "stdout",
     "output_type": "stream",
     "text": [
      "(10, 22.9, 'YBY', True)\n"
     ]
    },
    {
     "ename": "AttributeError",
     "evalue": "'tuple' object has no attribute 'append'",
     "output_type": "error",
     "traceback": [
      "\u001b[1;31m---------------------------------------------------------------------------\u001b[0m",
      "\u001b[1;31mAttributeError\u001b[0m                            Traceback (most recent call last)",
      "\u001b[1;32m<ipython-input-17-b794d7bede1e>\u001b[0m in \u001b[0;36m<module>\u001b[1;34m\u001b[0m\n\u001b[0;32m      1\u001b[0m \u001b[0mt\u001b[0m \u001b[1;33m=\u001b[0m \u001b[1;33m(\u001b[0m\u001b[1;36m10\u001b[0m\u001b[1;33m,\u001b[0m\u001b[1;36m22.9\u001b[0m\u001b[1;33m,\u001b[0m\u001b[1;34m\"YBY\"\u001b[0m\u001b[1;33m,\u001b[0m\u001b[1;32mTrue\u001b[0m\u001b[1;33m)\u001b[0m\u001b[1;33m\u001b[0m\u001b[1;33m\u001b[0m\u001b[0m\n\u001b[0;32m      2\u001b[0m \u001b[0mprint\u001b[0m\u001b[1;33m(\u001b[0m\u001b[0mt\u001b[0m\u001b[1;33m)\u001b[0m\u001b[1;33m\u001b[0m\u001b[1;33m\u001b[0m\u001b[0m\n\u001b[1;32m----> 3\u001b[1;33m \u001b[0mt\u001b[0m\u001b[1;33m.\u001b[0m\u001b[0mappend\u001b[0m\u001b[1;33m(\u001b[0m\u001b[1;36m200\u001b[0m\u001b[1;33m)\u001b[0m\u001b[1;33m\u001b[0m\u001b[1;33m\u001b[0m\u001b[0m\n\u001b[0m\u001b[0;32m      4\u001b[0m \u001b[0mprint\u001b[0m\u001b[1;33m(\u001b[0m\u001b[0mt\u001b[0m\u001b[1;33m)\u001b[0m\u001b[1;33m\u001b[0m\u001b[1;33m\u001b[0m\u001b[0m\n",
      "\u001b[1;31mAttributeError\u001b[0m: 'tuple' object has no attribute 'append'"
     ]
    }
   ],
   "source": [
    "t = (10,22.9,\"YBY\",True)\n",
    "print(t)\n",
    "t.append(200)\n",
    "print(t)"
   ]
  },
  {
   "cell_type": "markdown",
   "metadata": {},
   "source": [
    "sets"
   ]
  },
  {
   "cell_type": "code",
   "execution_count": 18,
   "metadata": {},
   "outputs": [
    {
     "name": "stdout",
     "output_type": "stream",
     "text": [
      "{40, 10, 20, 30}\n",
      "<class 'set'>\n"
     ]
    },
    {
     "ename": "TypeError",
     "evalue": "'set' object is not subscriptable",
     "output_type": "error",
     "traceback": [
      "\u001b[1;31m---------------------------------------------------------------------------\u001b[0m",
      "\u001b[1;31mTypeError\u001b[0m                                 Traceback (most recent call last)",
      "\u001b[1;32m<ipython-input-18-c3cbb8a13455>\u001b[0m in \u001b[0;36m<module>\u001b[1;34m\u001b[0m\n\u001b[0;32m      2\u001b[0m \u001b[0mprint\u001b[0m\u001b[1;33m(\u001b[0m\u001b[0ms\u001b[0m\u001b[1;33m)\u001b[0m\u001b[1;33m\u001b[0m\u001b[1;33m\u001b[0m\u001b[0m\n\u001b[0;32m      3\u001b[0m \u001b[0mprint\u001b[0m\u001b[1;33m(\u001b[0m\u001b[0mtype\u001b[0m\u001b[1;33m(\u001b[0m\u001b[0ms\u001b[0m\u001b[1;33m)\u001b[0m\u001b[1;33m)\u001b[0m\u001b[1;33m\u001b[0m\u001b[1;33m\u001b[0m\u001b[0m\n\u001b[1;32m----> 4\u001b[1;33m \u001b[0mprint\u001b[0m\u001b[1;33m(\u001b[0m\u001b[0ms\u001b[0m\u001b[1;33m[\u001b[0m\u001b[1;36m0\u001b[0m\u001b[1;33m]\u001b[0m\u001b[1;33m)\u001b[0m\u001b[1;33m\u001b[0m\u001b[1;33m\u001b[0m\u001b[0m\n\u001b[0m",
      "\u001b[1;31mTypeError\u001b[0m: 'set' object is not subscriptable"
     ]
    }
   ],
   "source": [
    "s = {10,20,30,40}\n",
    "print(s)\n",
    "print(type(s))\n",
    "print(s[0])"
   ]
  },
  {
   "cell_type": "markdown",
   "metadata": {},
   "source": [
    "sets are mutable"
   ]
  },
  {
   "cell_type": "code",
   "execution_count": 24,
   "metadata": {},
   "outputs": [
    {
     "name": "stdout",
     "output_type": "stream",
     "text": [
      "{40, 10, 20, 30}\n",
      "<class 'set'>\n",
      "{40, 201, 10, 20, 30}\n",
      "{40, 10, 20, 30}\n",
      "{32, 40, 10, 20, 30}\n",
      "{32, 40, 10, 20, 123, 30}\n",
      "{32, 40, 10, 20, 343, 123, 30}\n"
     ]
    }
   ],
   "source": [
    "s = {10,20,30,40}\n",
    "print(s)\n",
    "print(type(s))\n",
    "s.add(201)\n",
    "print(s)\n",
    "s.remove(201)\n",
    "print(s)\n",
    "s.add(32)\n",
    "print(s)\n",
    "s.add(123)\n",
    "print(s)\n",
    "s.add(343)\n",
    "print(s)"
   ]
  },
  {
   "cell_type": "markdown",
   "metadata": {},
   "source": [
    "Dictionary"
   ]
  },
  {
   "cell_type": "code",
   "execution_count": 25,
   "metadata": {},
   "outputs": [
    {
     "name": "stdout",
     "output_type": "stream",
     "text": [
      "{'Andhra Pradesh': ' Vijayawada', 'Telengana': 'Hyderbad', 'Maharastra': 'Mumbai'}\n",
      "<class 'dict'>\n"
     ]
    }
   ],
   "source": [
    "d = {\"Andhra Pradesh\":\" Vijayawada\",\"Telengana\":\"Hyderbad\",\"Maharastra\":\"Mumbai\"}\n",
    "print(d)\n",
    "print(type(d))"
   ]
  },
  {
   "cell_type": "markdown",
   "metadata": {},
   "source": [
    "Dictionaries are mutable"
   ]
  },
  {
   "cell_type": "code",
   "execution_count": 29,
   "metadata": {},
   "outputs": [
    {
     "name": "stdout",
     "output_type": "stream",
     "text": [
      "{'Andhra Pradesh': ' Vijayawada', 'Telengana': 'Hyderbad', 'Maharastra': 'Mumbai'}\n",
      "<class 'dict'>\n",
      "{'Andhra Pradesh': ' Vijayawada', 'Telengana': 'Hyderbad', 'Maharastra': 'Mumbai', 'Tamilnadu': 'chennai'}\n",
      "{'Andhra Pradesh': ' Vijayawada', 'Telengana': 'Hyderbad', 'Maharastra': 'Mumbai'}\n"
     ]
    }
   ],
   "source": [
    "d = {\"Andhra Pradesh\":\" Vijayawada\",\"Telengana\":\"Hyderbad\",\"Maharastra\":\"Mumbai\"}\n",
    "print(d)\n",
    "print(type(d))\n",
    "d[\"Tamilnadu\"]= \"chennai\"\n",
    "print(d)\n",
    "d.pop(\"Tamilnadu\")\n",
    "print(d)"
   ]
  },
  {
   "cell_type": "markdown",
   "metadata": {},
   "source": [
    "Typecasting \n",
    "int to float"
   ]
  },
  {
   "cell_type": "code",
   "execution_count": 30,
   "metadata": {},
   "outputs": [
    {
     "name": "stdout",
     "output_type": "stream",
     "text": [
      "9899\n",
      "<class 'int'>\n",
      "9899.0\n",
      "<class 'float'>\n"
     ]
    }
   ],
   "source": [
    "a = 9899\n",
    "print(a)\n",
    "print(type(a))\n",
    "b = float(a)\n",
    "print(b)\n",
    "print(type(b))"
   ]
  },
  {
   "cell_type": "code",
   "execution_count": 31,
   "metadata": {},
   "outputs": [
    {
     "name": "stdout",
     "output_type": "stream",
     "text": [
      "9899.44\n",
      "<class 'float'>\n",
      "9899\n",
      "<class 'int'>\n"
     ]
    }
   ],
   "source": [
    "a = 9899.44\n",
    "print(a)\n",
    "print(type(a))\n",
    "b = int(a)\n",
    "print(b)\n",
    "print(type(b))"
   ]
  },
  {
   "cell_type": "code",
   "execution_count": 32,
   "metadata": {},
   "outputs": [
    {
     "name": "stdout",
     "output_type": "stream",
     "text": [
      "9899.44\n",
      "<class 'float'>\n",
      "(9899.44+0j)\n",
      "<class 'complex'>\n"
     ]
    }
   ],
   "source": [
    "a = 9899.44\n",
    "print(a)\n",
    "print(type(a))\n",
    "b = complex(a)\n",
    "print(b)\n",
    "print(type(b))"
   ]
  },
  {
   "cell_type": "code",
   "execution_count": 33,
   "metadata": {},
   "outputs": [
    {
     "name": "stdout",
     "output_type": "stream",
     "text": [
      "9899\n",
      "<class 'int'>\n",
      "9899\n",
      "<class 'str'>\n"
     ]
    }
   ],
   "source": [
    "a = 9899\n",
    "print(a)\n",
    "print(type(a))\n",
    "b = str(a)\n",
    "print(b)\n",
    "print(type(b))"
   ]
  },
  {
   "cell_type": "code",
   "execution_count": 35,
   "metadata": {},
   "outputs": [
    {
     "name": "stdout",
     "output_type": "stream",
     "text": [
      "10\n",
      "140704638280368\n"
     ]
    }
   ],
   "source": [
    "a = 10\n",
    "print(a)\n",
    "print(id(a))"
   ]
  },
  {
   "cell_type": "code",
   "execution_count": 36,
   "metadata": {},
   "outputs": [
    {
     "name": "stdout",
     "output_type": "stream",
     "text": [
      "10\n",
      "140704638280368\n",
      "140704638280368\n"
     ]
    }
   ],
   "source": [
    "a = 10\n",
    "b=10\n",
    "print(a)\n",
    "print(id(a))\n",
    "print(id(b))"
   ]
  },
  {
   "cell_type": "code",
   "execution_count": 37,
   "metadata": {},
   "outputs": [
    {
     "name": "stdout",
     "output_type": "stream",
     "text": [
      "[23, 43, 45, 22]\n",
      "<class 'list'>\n",
      "[23, 43, 45, 22, 200]\n"
     ]
    }
   ],
   "source": [
    "lis=[23,43,45,22]\n",
    "print(lis)\n",
    "print(type(lis))\n",
    "\n",
    "lis.append(200)\n",
    "print(lis)"
   ]
  },
  {
   "cell_type": "code",
   "execution_count": 38,
   "metadata": {},
   "outputs": [
    {
     "name": "stdout",
     "output_type": "stream",
     "text": [
      "[23, 43, 45, 22, 200]\n",
      "<class 'list'>\n",
      "False\n"
     ]
    }
   ],
   "source": [
    "lis1=[23,43,45,22]\n",
    "print(lis)\n",
    "print(type(lis))\n",
    "\n",
    "print(lis is lis1)\n"
   ]
  },
  {
   "cell_type": "code",
   "execution_count": null,
   "metadata": {},
   "outputs": [],
   "source": []
  },
  {
   "cell_type": "markdown",
   "metadata": {},
   "source": [
    "Functions"
   ]
  },
  {
   "cell_type": "markdown",
   "metadata": {},
   "source": [
    "without input and Without Return Input"
   ]
  },
  {
   "cell_type": "code",
   "execution_count": 39,
   "metadata": {},
   "outputs": [
    {
     "name": "stdout",
     "output_type": "stream",
     "text": [
      "200\n"
     ]
    }
   ],
   "source": [
    "def mul():\n",
    "    a=10\n",
    "    b=20\n",
    "    c=a*b\n",
    "    print(c)\n",
    "mul()"
   ]
  },
  {
   "cell_type": "markdown",
   "metadata": {},
   "source": [
    "with input and without Return "
   ]
  },
  {
   "cell_type": "code",
   "execution_count": 40,
   "metadata": {},
   "outputs": [
    {
     "name": "stdout",
     "output_type": "stream",
     "text": [
      "200\n"
     ]
    }
   ],
   "source": [
    "def mul(x,y):\n",
    "    c = x*y\n",
    "    print(c)\n",
    "mul(10,20)"
   ]
  },
  {
   "cell_type": "markdown",
   "metadata": {},
   "source": [
    "without input and with Return Input"
   ]
  },
  {
   "cell_type": "code",
   "execution_count": 41,
   "metadata": {},
   "outputs": [
    {
     "name": "stdout",
     "output_type": "stream",
     "text": [
      "200\n"
     ]
    }
   ],
   "source": [
    "def mul():\n",
    "    a=10\n",
    "    b=20\n",
    "    c=a*b\n",
    "    return c\n",
    "re = mul()\n",
    "print(re)"
   ]
  },
  {
   "cell_type": "markdown",
   "metadata": {},
   "source": [
    "with input and with Return Input"
   ]
  },
  {
   "cell_type": "code",
   "execution_count": 43,
   "metadata": {},
   "outputs": [
    {
     "name": "stdout",
     "output_type": "stream",
     "text": [
      "200\n"
     ]
    }
   ],
   "source": [
    "def mul(x,y):\n",
    "    c = x*y\n",
    "    return c\n",
    "res =mul(10,20)\n",
    "print(res)"
   ]
  },
  {
   "cell_type": "markdown",
   "metadata": {},
   "source": [
    "1.Positional arguments\n"
   ]
  },
  {
   "cell_type": "code",
   "execution_count": 44,
   "metadata": {},
   "outputs": [
    {
     "name": "stdout",
     "output_type": "stream",
     "text": [
      "32\n"
     ]
    }
   ],
   "source": [
    "def p(a,b):\n",
    "    c = a**b\n",
    "    print(c)\n",
    "p(2,5)"
   ]
  },
  {
   "cell_type": "code",
   "execution_count": 45,
   "metadata": {},
   "outputs": [
    {
     "name": "stdout",
     "output_type": "stream",
     "text": [
      "32\n",
      "25\n"
     ]
    }
   ],
   "source": [
    "def p(a,b):\n",
    "    c = a**b\n",
    "    print(c)\n",
    "p(2,5)\n",
    "p(5,2)"
   ]
  },
  {
   "cell_type": "code",
   "execution_count": 46,
   "metadata": {},
   "outputs": [
    {
     "name": "stdout",
     "output_type": "stream",
     "text": [
      "32\n",
      "25\n"
     ]
    },
    {
     "ename": "TypeError",
     "evalue": "p() missing 1 required positional argument: 'b'",
     "output_type": "error",
     "traceback": [
      "\u001b[1;31m---------------------------------------------------------------------------\u001b[0m",
      "\u001b[1;31mTypeError\u001b[0m                                 Traceback (most recent call last)",
      "\u001b[1;32m<ipython-input-46-a8ca2a061ee3>\u001b[0m in \u001b[0;36m<module>\u001b[1;34m\u001b[0m\n\u001b[0;32m      4\u001b[0m \u001b[0mp\u001b[0m\u001b[1;33m(\u001b[0m\u001b[1;36m2\u001b[0m\u001b[1;33m,\u001b[0m\u001b[1;36m5\u001b[0m\u001b[1;33m)\u001b[0m\u001b[1;33m\u001b[0m\u001b[1;33m\u001b[0m\u001b[0m\n\u001b[0;32m      5\u001b[0m \u001b[0mp\u001b[0m\u001b[1;33m(\u001b[0m\u001b[1;36m5\u001b[0m\u001b[1;33m,\u001b[0m\u001b[1;36m2\u001b[0m\u001b[1;33m)\u001b[0m\u001b[1;33m\u001b[0m\u001b[1;33m\u001b[0m\u001b[0m\n\u001b[1;32m----> 6\u001b[1;33m \u001b[0mp\u001b[0m\u001b[1;33m(\u001b[0m\u001b[1;36m2\u001b[0m\u001b[1;33m)\u001b[0m\u001b[1;33m\u001b[0m\u001b[1;33m\u001b[0m\u001b[0m\n\u001b[0m",
      "\u001b[1;31mTypeError\u001b[0m: p() missing 1 required positional argument: 'b'"
     ]
    }
   ],
   "source": [
    "def p(a,b):\n",
    "    c = a**b\n",
    "    print(c)\n",
    "p(2,5)\n",
    "p(5,2)\n",
    "p(2)"
   ]
  },
  {
   "cell_type": "markdown",
   "metadata": {},
   "source": [
    "2.Default arguments\n"
   ]
  },
  {
   "cell_type": "code",
   "execution_count": 47,
   "metadata": {},
   "outputs": [
    {
     "name": "stdout",
     "output_type": "stream",
     "text": [
      "1\n"
     ]
    }
   ],
   "source": [
    "def p(a,b=0):\n",
    "    c = a**b\n",
    "    print(c)\n",
    "\n",
    "p(2)"
   ]
  },
  {
   "cell_type": "code",
   "execution_count": 48,
   "metadata": {},
   "outputs": [
    {
     "name": "stdout",
     "output_type": "stream",
     "text": [
      "1\n",
      "25\n"
     ]
    }
   ],
   "source": [
    "def p(a,b=0):\n",
    "    c = a**b\n",
    "    print(c)\n",
    "p(2)\n",
    "p(5,2)\n"
   ]
  },
  {
   "cell_type": "markdown",
   "metadata": {},
   "source": [
    "3.Keyword arguments\n",
    "\n"
   ]
  },
  {
   "cell_type": "code",
   "execution_count": 49,
   "metadata": {},
   "outputs": [
    {
     "name": "stdout",
     "output_type": "stream",
     "text": [
      "16\n",
      "25\n"
     ]
    }
   ],
   "source": [
    "def p(a,b):\n",
    "    c = a**b\n",
    "    print(c)\n",
    "p(a=2,b=4)\n",
    "p(a=5,b=2)"
   ]
  },
  {
   "cell_type": "code",
   "execution_count": null,
   "metadata": {},
   "outputs": [],
   "source": []
  },
  {
   "cell_type": "markdown",
   "metadata": {},
   "source": [
    "4.Variable length arguments\n"
   ]
  },
  {
   "cell_type": "code",
   "execution_count": 50,
   "metadata": {},
   "outputs": [
    {
     "ename": "TypeError",
     "evalue": "pizza_toppings() takes 0 positional arguments but 1 was given",
     "output_type": "error",
     "traceback": [
      "\u001b[1;31m---------------------------------------------------------------------------\u001b[0m",
      "\u001b[1;31mTypeError\u001b[0m                                 Traceback (most recent call last)",
      "\u001b[1;32m<ipython-input-50-5cc597dbced5>\u001b[0m in \u001b[0;36m<module>\u001b[1;34m\u001b[0m\n\u001b[0;32m      2\u001b[0m     \u001b[0mprint\u001b[0m\u001b[1;33m(\u001b[0m\u001b[0mtoppings\u001b[0m\u001b[1;33m)\u001b[0m\u001b[1;33m\u001b[0m\u001b[1;33m\u001b[0m\u001b[0m\n\u001b[0;32m      3\u001b[0m \u001b[1;33m\u001b[0m\u001b[0m\n\u001b[1;32m----> 4\u001b[1;33m \u001b[0mpizza_toppings\u001b[0m\u001b[1;33m(\u001b[0m\u001b[1;34m\"cheese\"\u001b[0m\u001b[1;33m)\u001b[0m\u001b[1;33m\u001b[0m\u001b[1;33m\u001b[0m\u001b[0m\n\u001b[0m\u001b[0;32m      5\u001b[0m \u001b[0mpizza_toppings\u001b[0m\u001b[1;33m(\u001b[0m\u001b[1;34m\"cheese\"\u001b[0m\u001b[1;33m,\u001b[0m\u001b[1;34m\"onion\"\u001b[0m\u001b[1;33m,\u001b[0m\u001b[1;34m\"olives\"\u001b[0m\u001b[1;33m,\u001b[0m\u001b[1;34m\"corn\"\u001b[0m\u001b[1;33m)\u001b[0m\u001b[1;33m\u001b[0m\u001b[1;33m\u001b[0m\u001b[0m\n",
      "\u001b[1;31mTypeError\u001b[0m: pizza_toppings() takes 0 positional arguments but 1 was given"
     ]
    }
   ],
   "source": [
    "def pizza_toppings():\n",
    "    print(toppings)\n",
    "\n",
    "pizza_toppings(\"cheese\")\n",
    "pizza_toppings(\"cheese\",\"onion\",\"olives\",\"corn\")\n"
   ]
  },
  {
   "cell_type": "code",
   "execution_count": 51,
   "metadata": {},
   "outputs": [
    {
     "ename": "TypeError",
     "evalue": "pizza_toppings() takes 0 positional arguments but 4 were given",
     "output_type": "error",
     "traceback": [
      "\u001b[1;31m---------------------------------------------------------------------------\u001b[0m",
      "\u001b[1;31mTypeError\u001b[0m                                 Traceback (most recent call last)",
      "\u001b[1;32m<ipython-input-51-cd932baab057>\u001b[0m in \u001b[0;36m<module>\u001b[1;34m\u001b[0m\n\u001b[0;32m      3\u001b[0m \u001b[1;33m\u001b[0m\u001b[0m\n\u001b[0;32m      4\u001b[0m \u001b[1;31m#pizza_toppings(\"cheese\")\u001b[0m\u001b[1;33m\u001b[0m\u001b[1;33m\u001b[0m\u001b[1;33m\u001b[0m\u001b[0m\n\u001b[1;32m----> 5\u001b[1;33m \u001b[0mpizza_toppings\u001b[0m\u001b[1;33m(\u001b[0m\u001b[1;34m\"cheese\"\u001b[0m\u001b[1;33m,\u001b[0m\u001b[1;34m\"onion\"\u001b[0m\u001b[1;33m,\u001b[0m\u001b[1;34m\"olives\"\u001b[0m\u001b[1;33m,\u001b[0m\u001b[1;34m\"corn\"\u001b[0m\u001b[1;33m)\u001b[0m\u001b[1;33m\u001b[0m\u001b[1;33m\u001b[0m\u001b[0m\n\u001b[0m",
      "\u001b[1;31mTypeError\u001b[0m: pizza_toppings() takes 0 positional arguments but 4 were given"
     ]
    }
   ],
   "source": [
    "def pizza_toppings():\n",
    "    print(toppings)\n",
    "\n",
    "#pizza_toppings(\"cheese\")\n",
    "pizza_toppings(\"cheese\",\"onion\",\"olives\",\"corn\")"
   ]
  },
  {
   "cell_type": "code",
   "execution_count": 53,
   "metadata": {},
   "outputs": [
    {
     "name": "stdout",
     "output_type": "stream",
     "text": [
      "('cheese', 'onion', 'olives', 'corn')\n",
      "<class 'tuple'>\n"
     ]
    }
   ],
   "source": [
    "def pizza_toppings(*toppings):\n",
    "    print(toppings)\n",
    "    print(type(toppings))\n",
    "\n",
    "#pizza_toppings(\"cheese\")\n",
    "pizza_toppings(\"cheese\",\"onion\",\"olives\",\"corn\")"
   ]
  },
  {
   "cell_type": "code",
   "execution_count": 54,
   "metadata": {},
   "outputs": [
    {
     "name": "stdout",
     "output_type": "stream",
     "text": [
      "('cheese', 'onion', 'olives', 'corn')\n",
      "<class 'tuple'>\n"
     ]
    }
   ],
   "source": [
    "def pizza_toppings(*toppings):\n",
    "    print(toppings)\n",
    "    print(type(toppings))\n",
    "\n",
    "#pizza_toppings(\"cheese\",\"thin\")\n",
    "pizza_toppings(\"cheese\",\"onion\",\"olives\",\"corn\")"
   ]
  },
  {
   "cell_type": "markdown",
   "metadata": {},
   "source": [
    "5.Variable keyword length arguments"
   ]
  },
  {
   "cell_type": "code",
   "execution_count": 55,
   "metadata": {},
   "outputs": [
    {
     "name": "stdout",
     "output_type": "stream",
     "text": [
      "{'name': 'Rishitha', 'age': 23, 'avg': 55, 'gender': 'F'}\n"
     ]
    }
   ],
   "source": [
    "def collect(**data):\n",
    "    print(data)\n",
    "collect(name=\"Rishitha\", age=23,avg=55,gender=\"F\")"
   ]
  },
  {
   "cell_type": "markdown",
   "metadata": {},
   "source": [
    "Return keyword"
   ]
  },
  {
   "cell_type": "code",
   "execution_count": 56,
   "metadata": {},
   "outputs": [
    {
     "name": "stdout",
     "output_type": "stream",
     "text": [
      "(10, 20, 30)\n"
     ]
    }
   ],
   "source": [
    "def fun():\n",
    "    a=10\n",
    "    b=20\n",
    "    c=30\n",
    "    return a,b,c\n",
    "print(fun())"
   ]
  },
  {
   "cell_type": "code",
   "execution_count": null,
   "metadata": {},
   "outputs": [],
   "source": []
  },
  {
   "cell_type": "code",
   "execution_count": 67,
   "metadata": {},
   "outputs": [
    {
     "name": "stdout",
     "output_type": "stream",
     "text": [
      "10\n",
      "20\n",
      "30\n"
     ]
    }
   ],
   "source": [
    "def fun():\n",
    "    a=10\n",
    "    b=20\n",
    "    c=30\n",
    "    return a,b,c\n",
    "res1,res2,re=fun()\n",
    "print(res1)\n",
    "print(res2)\n",
    "print(re)"
   ]
  },
  {
   "cell_type": "markdown",
   "metadata": {},
   "source": [
    "user inputs"
   ]
  },
  {
   "cell_type": "code",
   "execution_count": 71,
   "metadata": {},
   "outputs": [
    {
     "name": "stdout",
     "output_type": "stream",
     "text": [
      "enter the numerator20\n",
      "enter the denominator2\n",
      "10.0\n"
     ]
    }
   ],
   "source": [
    "num = int(input(\"enter the numerator\"))\n",
    "num \n",
    "den = int(input(\"enter the denominator\"))\n",
    "den \n",
    "\n",
    "res = num/den\n",
    "print(res)"
   ]
  },
  {
   "cell_type": "code",
   "execution_count": 77,
   "metadata": {},
   "outputs": [
    {
     "name": "stdout",
     "output_type": "stream",
     "text": [
      "C:\\Users\\rishitha1905\\Anaconda3\\lib\\site-packages\\ipykernel_launcher.py\n",
      "-f\n",
      "C:\\Users\\rishitha1905\\AppData\\Roaming\\jupyter\\runtime\\kernel-11a0603f-2b2c-46fc-83fc-ebe222a6e8b0.json\n"
     ]
    },
    {
     "ename": "ValueError",
     "evalue": "invalid literal for int() with base 10: '-f'",
     "output_type": "error",
     "traceback": [
      "\u001b[1;31m---------------------------------------------------------------------------\u001b[0m",
      "\u001b[1;31mValueError\u001b[0m                                Traceback (most recent call last)",
      "\u001b[1;32m<ipython-input-77-ab8f43107040>\u001b[0m in \u001b[0;36m<module>\u001b[1;34m\u001b[0m\n\u001b[0;32m      5\u001b[0m \u001b[0mprint\u001b[0m\u001b[1;33m(\u001b[0m\u001b[0msys\u001b[0m\u001b[1;33m.\u001b[0m\u001b[0margv\u001b[0m\u001b[1;33m[\u001b[0m\u001b[1;36m2\u001b[0m\u001b[1;33m]\u001b[0m\u001b[1;33m)\u001b[0m\u001b[1;33m\u001b[0m\u001b[1;33m\u001b[0m\u001b[0m\n\u001b[0;32m      6\u001b[0m \u001b[1;33m\u001b[0m\u001b[0m\n\u001b[1;32m----> 7\u001b[1;33m \u001b[0mr\u001b[0m \u001b[1;33m=\u001b[0m \u001b[0mint\u001b[0m\u001b[1;33m(\u001b[0m\u001b[0msys\u001b[0m\u001b[1;33m.\u001b[0m\u001b[0margv\u001b[0m\u001b[1;33m[\u001b[0m\u001b[1;36m1\u001b[0m\u001b[1;33m]\u001b[0m\u001b[1;33m)\u001b[0m\u001b[1;33m/\u001b[0m\u001b[0mint\u001b[0m\u001b[1;33m(\u001b[0m\u001b[0msys\u001b[0m\u001b[1;33m.\u001b[0m\u001b[0margv\u001b[0m\u001b[1;33m[\u001b[0m\u001b[1;36m2\u001b[0m\u001b[1;33m]\u001b[0m\u001b[1;33m)\u001b[0m\u001b[1;33m\u001b[0m\u001b[1;33m\u001b[0m\u001b[0m\n\u001b[0m\u001b[0;32m      8\u001b[0m \u001b[0mprint\u001b[0m\u001b[1;33m(\u001b[0m\u001b[0mr\u001b[0m\u001b[1;33m)\u001b[0m\u001b[1;33m\u001b[0m\u001b[1;33m\u001b[0m\u001b[0m\n",
      "\u001b[1;31mValueError\u001b[0m: invalid literal for int() with base 10: '-f'"
     ]
    }
   ],
   "source": [
    "import sys\n",
    "\n",
    "print(sys.argv[0])\n",
    "print(sys.argv[1])\n",
    "print(sys.argv[2])\n",
    "\n",
    "r = int(sys.argv[1])/int(sys.argv[2])\n",
    "print(r)"
   ]
  },
  {
   "cell_type": "code",
   "execution_count": 78,
   "metadata": {},
   "outputs": [
    {
     "name": "stdout",
     "output_type": "stream",
     "text": [
      "condition i true\n"
     ]
    }
   ],
   "source": [
    "if True:\n",
    "    print(\"condition i true\")"
   ]
  },
  {
   "cell_type": "code",
   "execution_count": 80,
   "metadata": {},
   "outputs": [],
   "source": [
    "if False:\n",
    "    print(\"condition is true\")"
   ]
  },
  {
   "cell_type": "code",
   "execution_count": 88,
   "metadata": {},
   "outputs": [
    {
     "name": "stdout",
     "output_type": "stream",
     "text": [
      "enter a number \n",
      "4\n",
      "4 is even\n"
     ]
    }
   ],
   "source": [
    "n = int(input(\"enter a number \\n\"))\n",
    "if n%2==0:\n",
    "    print(n,\"is even\")\n",
    "else:\n",
    "    print(n,\"is odd\")"
   ]
  },
  {
   "cell_type": "markdown",
   "metadata": {},
   "source": [
    "and operator"
   ]
  },
  {
   "cell_type": "code",
   "execution_count": 89,
   "metadata": {},
   "outputs": [
    {
     "name": "stdout",
     "output_type": "stream",
     "text": [
      "enter 1st number2\n",
      "enter 2st number3\n",
      "enter 3st number4\n",
      "4 is the largest\n"
     ]
    }
   ],
   "source": [
    "a = int(input(\"enter 1st number\"))\n",
    "b = int(input(\"enter 2st number\"))\n",
    "c = int(input(\"enter 3st number\"))\n",
    "\n",
    "if a>b and a>c:\n",
    "    print(a,\"is the largest\")\n",
    "elif b>c:\n",
    "    print(b,\"is the largest\")\n",
    "else:\n",
    "    print(c,\"is the largest\")"
   ]
  },
  {
   "cell_type": "markdown",
   "metadata": {},
   "source": [
    "or opeartor"
   ]
  },
  {
   "cell_type": "code",
   "execution_count": 93,
   "metadata": {},
   "outputs": [
    {
     "name": "stdout",
     "output_type": "stream",
     "text": [
      "10 is divisible by either  3 or 5\n"
     ]
    }
   ],
   "source": [
    "a= 10\n",
    "if a%3==0 or a%5==0:\n",
    "    print(a,\"is divisible by either  3 or 5\")\n",
    "else:\n",
    "    print(b,\"is not divisible by neither 3 or 5\")"
   ]
  },
  {
   "cell_type": "markdown",
   "metadata": {},
   "source": [
    "not operator"
   ]
  },
  {
   "cell_type": "code",
   "execution_count": 95,
   "metadata": {},
   "outputs": [
    {
     "name": "stdout",
     "output_type": "stream",
     "text": [
      "enter a number \n",
      "22\n",
      "22 even number\n"
     ]
    }
   ],
   "source": [
    "n = int(input(\"enter a number \\n\"))\n",
    "\n",
    "if not (n%2==0):\n",
    "    print(n,\"odd number\")\n",
    "else:\n",
    "    print(n,\"even number\")"
   ]
  },
  {
   "cell_type": "markdown",
   "metadata": {},
   "source": [
    "Looping"
   ]
  },
  {
   "cell_type": "markdown",
   "metadata": {},
   "source": [
    "while loop"
   ]
  },
  {
   "cell_type": "code",
   "execution_count": 96,
   "metadata": {},
   "outputs": [
    {
     "name": "stdout",
     "output_type": "stream",
     "text": [
      "10\n",
      "20\n",
      "30\n",
      "40\n",
      "50\n"
     ]
    }
   ],
   "source": [
    "lst=[10,20,30,40,50]\n",
    "\n",
    "i=0\n",
    "while i<5:\n",
    "    print(lst[i])\n",
    "    i=i+1"
   ]
  },
  {
   "cell_type": "markdown",
   "metadata": {},
   "source": [
    "For Loop"
   ]
  },
  {
   "cell_type": "code",
   "execution_count": 97,
   "metadata": {},
   "outputs": [
    {
     "name": "stdout",
     "output_type": "stream",
     "text": [
      "10\n",
      "20\n",
      "30\n",
      "40\n",
      "50\n"
     ]
    }
   ],
   "source": [
    "lst=[10,20,30,40,50]\n",
    "\n",
    "for i in lst:\n",
    "    print(i)"
   ]
  },
  {
   "cell_type": "markdown",
   "metadata": {},
   "source": [
    "range"
   ]
  },
  {
   "cell_type": "code",
   "execution_count": 98,
   "metadata": {},
   "outputs": [
    {
     "name": "stdout",
     "output_type": "stream",
     "text": [
      "range(0, 5)\n"
     ]
    }
   ],
   "source": [
    "print(range(5))"
   ]
  },
  {
   "cell_type": "markdown",
   "metadata": {},
   "source": [
    "Break statement"
   ]
  },
  {
   "cell_type": "code",
   "execution_count": 99,
   "metadata": {},
   "outputs": [
    {
     "name": "stdout",
     "output_type": "stream",
     "text": [
      "Enter a number\n",
      "4\n",
      "4 is not prime\n"
     ]
    }
   ],
   "source": [
    "n = int(input(\"Enter a number\\n\"))\n",
    "\n",
    "for i in range(2,n+1):\n",
    "    if n%i==0:\n",
    "        break\n",
    "if i==n:\n",
    "    print(n,\"is prime\")\n",
    "else:\n",
    "    print(n,\"is not prime\")"
   ]
  },
  {
   "cell_type": "markdown",
   "metadata": {},
   "source": [
    "continue statement"
   ]
  },
  {
   "cell_type": "code",
   "execution_count": 103,
   "metadata": {},
   "outputs": [
    {
     "name": "stdout",
     "output_type": "stream",
     "text": [
      "enter the value of n:\n",
      "5\n",
      "sum of all even numbers is: 6\n",
      "sum of all odd numbers is: 9\n"
     ]
    }
   ],
   "source": [
    "even_sum,odd_sum = 0,0\n",
    "n = int(input(\"enter the value of n:\\n\"))\n",
    "for i in range(1,n+1):\n",
    "    if i%2==0:\n",
    "        even_sum += i\n",
    "        continue\n",
    "    odd_sum += i\n",
    "    \n",
    "print(\"sum of all even numbers is:\", even_sum)\n",
    "print(\"sum of all odd numbers is:\",odd_sum)"
   ]
  },
  {
   "cell_type": "markdown",
   "metadata": {},
   "source": [
    "Lambda statement"
   ]
  },
  {
   "cell_type": "code",
   "execution_count": 105,
   "metadata": {},
   "outputs": [
    {
     "name": "stdout",
     "output_type": "stream",
     "text": [
      "32\n"
     ]
    }
   ],
   "source": [
    "ab = (lambda num,p : num**p) (2,5)\n",
    "print(ab)"
   ]
  },
  {
   "cell_type": "code",
   "execution_count": 107,
   "metadata": {},
   "outputs": [
    {
     "name": "stdout",
     "output_type": "stream",
     "text": [
      "50.0\n",
      "5.0\n"
     ]
    }
   ],
   "source": [
    "da = lambda num,den : num/den\n",
    "d=da(100,2)\n",
    "print(d)\n",
    "\n",
    "d1 = da(10,2)\n",
    "print(d1)"
   ]
  },
  {
   "cell_type": "markdown",
   "metadata": {},
   "source": [
    "filter()"
   ]
  },
  {
   "cell_type": "code",
   "execution_count": 109,
   "metadata": {},
   "outputs": [
    {
     "name": "stdout",
     "output_type": "stream",
     "text": [
      "[10, 22, 8]\n"
     ]
    }
   ],
   "source": [
    "lst = [10,22,8,67,55]\n",
    "def fun(x):\n",
    "        if x%2 == 0:\n",
    "            return True\n",
    "        else:\n",
    "            return False\n",
    "evn_lst = list(filter(fun,lst))\n",
    "print(evn_lst)"
   ]
  },
  {
   "cell_type": "code",
   "execution_count": 110,
   "metadata": {},
   "outputs": [
    {
     "name": "stdout",
     "output_type": "stream",
     "text": [
      "[56, 34]\n"
     ]
    }
   ],
   "source": [
    "lst = [21,343,56,31,34,45]\n",
    "\n",
    "result = list(filter(lambda x: (x%2 ==0),lst))\n",
    "print(result)"
   ]
  },
  {
   "cell_type": "markdown",
   "metadata": {},
   "source": [
    "reduce()"
   ]
  },
  {
   "cell_type": "code",
   "execution_count": 112,
   "metadata": {},
   "outputs": [
    {
     "name": "stdout",
     "output_type": "stream",
     "text": [
      "15\n"
     ]
    }
   ],
   "source": [
    "from functools import reduce\n",
    "\n",
    "lst = [1,2,3,4,5]\n",
    "\n",
    "def fun(x,y):\n",
    "    return x+y\n",
    "res= reduce(fun,lst)\n",
    "print(res)"
   ]
  },
  {
   "cell_type": "code",
   "execution_count": 114,
   "metadata": {},
   "outputs": [
    {
     "name": "stdout",
     "output_type": "stream",
     "text": [
      "530\n"
     ]
    }
   ],
   "source": [
    "lst = [21,343,56,31,34,45]\n",
    "\n",
    "result = reduce(lambda x,y: x+y,lst)\n",
    "print(result)"
   ]
  },
  {
   "cell_type": "markdown",
   "metadata": {},
   "source": [
    "map()"
   ]
  },
  {
   "cell_type": "code",
   "execution_count": 118,
   "metadata": {},
   "outputs": [
    {
     "name": "stdout",
     "output_type": "stream",
     "text": [
      "[1, 4, 9, 16, 25]\n"
     ]
    }
   ],
   "source": [
    "lst = [1,2,3,4,5]\n",
    "\n",
    "def fun(x):\n",
    "    return x**2\n",
    "\n",
    "s_lst = list(map(fun,lst))\n",
    "print(s_lst)"
   ]
  },
  {
   "cell_type": "markdown",
   "metadata": {},
   "source": [
    "Global variables"
   ]
  },
  {
   "cell_type": "code",
   "execution_count": 119,
   "metadata": {},
   "outputs": [
    {
     "name": "stdout",
     "output_type": "stream",
     "text": [
      "999\n"
     ]
    }
   ],
   "source": [
    "x = 33\n",
    "def fun():\n",
    "    y=999\n",
    "    print(y)\n",
    "fun()"
   ]
  },
  {
   "cell_type": "markdown",
   "metadata": {},
   "source": [
    "Local variabels"
   ]
  },
  {
   "cell_type": "code",
   "execution_count": 120,
   "metadata": {},
   "outputs": [
    {
     "name": "stdout",
     "output_type": "stream",
     "text": [
      "999\n"
     ]
    },
    {
     "ename": "NameError",
     "evalue": "name 'y' is not defined",
     "output_type": "error",
     "traceback": [
      "\u001b[1;31m---------------------------------------------------------------------------\u001b[0m",
      "\u001b[1;31mNameError\u001b[0m                                 Traceback (most recent call last)",
      "\u001b[1;32m<ipython-input-120-3bae3a794b0c>\u001b[0m in \u001b[0;36m<module>\u001b[1;34m\u001b[0m\n\u001b[0;32m      5\u001b[0m     \u001b[0mprint\u001b[0m\u001b[1;33m(\u001b[0m\u001b[0my\u001b[0m\u001b[1;33m)\u001b[0m\u001b[1;33m\u001b[0m\u001b[1;33m\u001b[0m\u001b[0m\n\u001b[0;32m      6\u001b[0m \u001b[0mfun\u001b[0m\u001b[1;33m(\u001b[0m\u001b[1;33m)\u001b[0m\u001b[1;33m\u001b[0m\u001b[1;33m\u001b[0m\u001b[0m\n\u001b[1;32m----> 7\u001b[1;33m \u001b[0mprint\u001b[0m\u001b[1;33m(\u001b[0m\u001b[0my\u001b[0m\u001b[1;33m)\u001b[0m\u001b[1;33m\u001b[0m\u001b[1;33m\u001b[0m\u001b[0m\n\u001b[0m",
      "\u001b[1;31mNameError\u001b[0m: name 'y' is not defined"
     ]
    }
   ],
   "source": [
    "x = 99\n",
    "\n",
    "def fun():\n",
    "    y=999\n",
    "    print(y)\n",
    "fun()\n",
    "print(y)"
   ]
  },
  {
   "cell_type": "code",
   "execution_count": 122,
   "metadata": {},
   "outputs": [
    {
     "name": "stdout",
     "output_type": "stream",
     "text": [
      "999\n",
      "{'__name__': '__main__', '__doc__': 'Automatically created module for IPython interactive environment', '__package__': None, '__loader__': None, '__spec__': None, '__builtin__': <module 'builtins' (built-in)>, '__builtins__': <module 'builtins' (built-in)>, '_ih': ['', 'a = 10;\\nb = 20,\\nprint(\"a= \",a)\\nprint(\"b= \",b)\\nb,a=a,b\\nprint(\\'a= \\',a)\\nprint(\"b= \",b)', 'a = 10;\\nb = 20,\\nprint(\"a= \",a);\\nprint(\"b= \",b)\\nb,a=a,b\\nprint(\\'a= \\',a)\\nprint(\"b= \",b)', 'a = 10;\\nb = 20,\\nprint(\"a= \",a);\\nprint(\"b= \",b);\\nb,a=a,b\\nprint(\"a= \",a);\\nprint(\"b= \",b)', 'a = 10;\\nb = 20,\\nprint(\"a= \",a);\\nprint(\"b= \",b);\\nb,a=a,b\\nprint(\"a= \",a);\\nprint(\"b= \",b);', 'a = 10;\\nb = 20;\\nprint(\"a= \",a);\\nprint(\"b= \",b);\\nb,a=a,b\\nprint(\"a= \",a);\\nprint(\"b= \",b);', 'a = 10\\nb = 20\\nprint(\"a= \",a)\\nprint(\"b= \",b)\\nb,a=a,b\\nprint(\"a= \",a)\\nprint(\"b= \",b)', 'a=10\\nprint(a)\\nprint(type(a))', 'b = 99.9\\nprint(b)\\nprint(type(b))', 'b = 19.9\\nprint(b)\\nprint(type(b))', 'c = \"UNIQUE\"\\nprint(c)\\nprint(type(c))', 'd = 3+6j\\nprint(d)\\nprint(type(d))', 'e = 5>6\\nprint(e)\\nprint(type(e))', 'lst = [23,43,22,45,54,22]\\nprint(lst)\\nprint(type(lst))', 'lst = [10,19.9,\"UNIQUE\",True]\\nprint(lst)\\nprint(type(lst))\\n\\nprint(lst[0])\\nprint(lst[-4])', 'lst = [10,19.9,\"UNIQUE\",True]\\nprint(lst)\\nprint(type(lst))\\nlst.append(200)\\nprint(lst)\\n\\nlst.remove(200)\\nprint(lst)', 't = (2,18.8,\"RIshitha\",False)\\nprint(t)\\nprint(type(t))\\nprint(t[0])\\nprint(t[-4])', 't = (10,22.9,\"YBY\",True)\\nprint(t)\\nt.append(200)\\nprint(t)', 's = {10,20,30,40}\\nprint(s)\\nprint(type(s))\\nprint(s[0])', 's = {10,20,30,40}\\nprint(s)\\nprint(type(s))\\ns.add(201)\\nprint(s)\\ns.remove(201)\\nprint(s)\\ns.add(32)\\nprint(s)', 's = {10,20,30,40}\\nprint(s)\\nprint(type(s))\\ns.add(201)\\nprint(s)\\ns.remove(201)\\nprint(s)\\ns.add(32)\\nprint(s)\\ns.add(12)\\nprint(S)', 's = {10,20,30,40}\\nprint(s)\\nprint(type(s))\\ns.add(201)\\nprint(s)\\ns.remove(201)\\nprint(s)\\ns.add(32)\\nprint(s)\\ns.add(12)\\nprint(s)', 's = {10,20,30,40}\\nprint(s)\\nprint(type(s))\\ns.add(201)\\nprint(s)\\ns.remove(201)\\nprint(s)\\ns.add(32)\\nprint(s)\\ns.add(123)\\nprint(s)', 's = {10,20,30,40}\\nprint(s)\\nprint(type(s))\\ns.add(201)\\nprint(s)\\ns.remove(201)\\nprint(s)\\ns.add(32)\\nprint(s)\\ns.add(123)\\nprint(s)\\ns.add(123)\\nprint(s)', 's = {10,20,30,40}\\nprint(s)\\nprint(type(s))\\ns.add(201)\\nprint(s)\\ns.remove(201)\\nprint(s)\\ns.add(32)\\nprint(s)\\ns.add(123)\\nprint(s)\\ns.add(343)\\nprint(s)', 'd = {\"Andhra Pradesh\":\" Vijayawada\",\"Telengana\":\"Hyderbad\",\"Maharastra\":\"Mumbai\"}\\nprint(d)\\nprint(type(d))', 'd = {\"Andhra Pradesh\":\" Vijayawada\",\"Telengana\":\"Hyderbad\",\"Maharastra\":\"Mumbai\"}\\nprint(d)\\nprint(type(d))\\nd[\"Tamilnadu\"]= \"chennai\"\\nprint(d)', 'd = {\"Andhra Pradesh\":\" Vijayawada\",\"Telengana\":\"Hyderbad\",\"Maharastra\":\"Mumbai\"}\\nprint(d)\\nprint(type(d))\\nd[\"Tamilnadu\"]= \"chennai\"\\nprint(d)\\nd.pop(\"Tamilnau\")\\nd', 'd = {\"Andhra Pradesh\":\" Vijayawada\",\"Telengana\":\"Hyderbad\",\"Maharastra\":\"Mumbai\"}\\nprint(d)\\nprint(type(d))\\nd[\"Tamilnadu\"]= \"chennai\"\\nprint(d)\\nd.pop(\"Tamilnau\")\\nprint(d)', 'd = {\"Andhra Pradesh\":\" Vijayawada\",\"Telengana\":\"Hyderbad\",\"Maharastra\":\"Mumbai\"}\\nprint(d)\\nprint(type(d))\\nd[\"Tamilnadu\"]= \"chennai\"\\nprint(d)\\nd.pop(\"Tamilnadu\")\\nprint(d)', 'a = 9899\\nprint(a)\\nprint(type(a))\\nb = float(a)\\nprint(b)\\nprint(type(b))', 'a = 9899.44\\nprint(a)\\nprint(type(a))\\nb = int(a)\\nprint(b)\\nprint(type(b))', 'a = 9899.44\\nprint(a)\\nprint(type(a))\\nb = complex(a)\\nprint(b)\\nprint(type(b))', 'a = 9899\\nprint(a)\\nprint(type(a))\\nb = str(a)\\nprint(b)\\nprint(type(b))', 'a = 10\\nprint(a)\\nprint(id)', 'a = 10\\nprint(a)\\nprint(id(a))', 'a = 10\\nb=10\\nprint(a)\\nprint(id(a))\\nprint(id(b))', 'lis=[23,43,45,22]\\nprint(lis)\\nprint(type(lis))\\n\\nlis.append(200)\\nprint(lis)', 'lis1=[23,43,45,22]\\nprint(lis)\\nprint(type(lis))\\n\\nprint(lis is lis1)', 'def mul():\\n    a=10\\n    b=20\\n    c=a*b\\n    print(c)\\nmul()', 'def mul(x,y):\\n    c = x*y\\n    print(c)\\nmul(10,20)', 'def mul():\\n    a=10\\n    b=20\\n    c=a*b\\n    return c\\nre = mul()\\nprint(re)', 'def mul(x,y)\\n    c = x*y\\n    return c\\nres =mul(10,20)\\nprint(res)', 'def mul(x,y):\\n    c = x*y\\n    return c\\nres =mul(10,20)\\nprint(res)', 'def p(a,b):\\n    c = a**b\\n    print(c)\\np(2,5)', 'def p(a,b):\\n    c = a**b\\n    print(c)\\np(2,5)\\np(5,2)', 'def p(a,b):\\n    c = a**b\\n    print(c)\\np(2,5)\\np(5,2)\\np(2)', 'def p(a,b=0):\\n    c = a**b\\n    print(c)\\n\\np(2)', 'def p(a,b=0):\\n    c = a**b\\n    print(c)\\np(2)\\np(5,2)', 'def p(a,b):\\n    c = a**b\\n    print(c)\\np(a=2,b=4)\\np(a=5,b=2)', 'def pizza_toppings():\\n    print(toppings)\\n\\npizza_toppings(\"cheese\")\\npizza_toppings(\"cheese\",\"onion\",\"olives\",\"corn\")', 'def pizza_toppings():\\n    print(toppings)\\n\\n#pizza_toppings(\"cheese\")\\npizza_toppings(\"cheese\",\"onion\",\"olives\",\"corn\")', 'def pizza_toppings():\\n    print(toppings)\\n    print(type(toppings))\\n\\n#pizza_toppings(\"cheese\")\\npizza_toppings(\"cheese\",\"onion\",\"olives\",\"corn\")', 'def pizza_toppings(*toppings):\\n    print(toppings)\\n    print(type(toppings))\\n\\n#pizza_toppings(\"cheese\")\\npizza_toppings(\"cheese\",\"onion\",\"olives\",\"corn\")', 'def pizza_toppings(*toppings):\\n    print(toppings)\\n    print(type(toppings))\\n\\n#pizza_toppings(\"cheese\",\"thin\")\\npizza_toppings(\"cheese\",\"onion\",\"olives\",\"corn\")', 'def collect(**data):\\n    print(data)\\ncollect(name=\"Rishitha\", age=23,avg=55,gender=\"F\")', 'def fun():\\n    a=10\\n    b=20\\n    c=30\\n    return a,b,c\\nprint(fun())', 'def func1():\\n    x=50\\n    return x\\nfunc1()\\nprint(x)', 'x=50\\ndef func1():\\n    x=50\\n    return x\\nfunc1()\\nprint(x)', 'x=50\\ndef func1():\\n    #x=50\\n    return x\\nfunc1()\\nprint(x)', 'def func1():\\n    x=50\\n    return x\\nfunc1()\\nprint(x)', 'def func1():\\n    x=50\\n    return x\\nfunc1()\\nprint(x)', 'def func1():\\n    x=50\\n    return x\\nfunc1()\\nprint(x)', 'def func1():\\n    x=50\\n    return x\\nfunc1()\\nprint(x)', 'def func1():\\n    y=50\\n    return x\\nfunc1()\\nprint(x)', 'def func1():\\n    y=50\\n    return x\\nfunc1()\\nprint(y)', 'def func1():\\n    y=50\\n    return y\\nfunc1()\\nprint(y)', 'def fun():\\n    a=10\\n    b=20\\n    c=30\\n    return a,b,c\\nres1,res2,re=fun()\\nprint(res1)\\nprint(res2)\\nprint(re)', 'print(\"enter the numerator\")', 'print(\"enter the numerator\")\\nnum = input()\\nprint(\"enter the denominator\")\\nden = input()\\n\\nres = num/den\\nprint(res)', 'num = input(\"enter the numerator\")\\nnum \\nden = input(\"enter the denominator\")\\nden \\n\\nres = num/den\\nprint(res)', 'num = int(input(\"enter the numerator\"))\\nnum \\nden = int(input(\"enter the denominator\"))\\nden \\n\\nres = num/den\\nprint(res)', 'import sys\\n\\nprint(sys.argv[0])\\nprint(sys.argv[1])\\nprint(sys.argv[2])\\n\\nres = int(sys.argv[1]/int(sys.argv[2]))\\nprint(res)', 'import sys\\n\\nprint(sys.argv[0])\\nprint(sys.argv[1])\\nprint(sys.argv[2])\\n\\nres = int(sys.argv[1])/int(sys.argv[2]))\\nprint(res)', 'import sys\\n\\nprint(sys.argv[0])\\nprint(sys.argv[1])\\nprint(sys.argv[2])\\n\\nres = int(sys.argv[1])/int(sys.argv[2])\\nprint(res)', 'import sys\\n\\nprint(sys.argv[0])\\nprint(sys.argv[1])\\nprint(sys.argv[2])\\n\\nr = int(sys.argv[1])/int(sys.argv[2])\\nprint(r)', 'import sys\\n\\nprint(sys.argv[0])\\nprint(sys.argv[1])\\nprint(sys.argv[2])\\n\\nr = sys.argv[1]/sys.argv[2]\\nprint(r)', 'import sys\\n\\nprint(sys.argv[0])\\nprint(sys.argv[1])\\nprint(sys.argv[2])\\n\\nr = int(sys.argv[1])/int(sys.argv[2])\\nprint(r)', 'if True:\\n    print(\"condition i true\")', 'if False:\\n    print(\"condition is true\")', 'if False:\\n    print(\"condition is true\")', 'n = int(input(\"enter a number\"))\\nif n%2==0:\\n    print(n,\"is even\")', 'n = int(input(\"enter a number\"))\\nif n%2==0:\\n    print(n,\"is even\")\\n    ', 'n = int(input(\"enter a number \\\\n\"))\\nif n%2==0:\\n    print(n,\"is even\")\\n    ', 'n = int(input(\"enter a number \\\\n\"))\\nif n%2==0:\\n    print(n,\"is even\")\\nelse:\\n    print(n,\"is odd\")', 'n = int(input(\"enter a number \\\\n\"))\\nif n%2==0:\\n    print(\"is even\")\\nelse:\\n    print(n,\"is odd\")', 'n = int(input(\"enter a number \\\\n\"))\\nif n%2==0:\\n    print(\"is even\")\\nelse:\\n    print(n,\"is odd\")', 'n = int(input(\"enter a number \\\\n\"))\\nif n%2==0:\\n    print(n,\"is even\")\\nelse:\\n    print(n,\"is odd\")', 'n = int(input(\"enter a number \\\\n\"))\\nif n%2==0:\\n    print(n,\"is even\")\\nelse:\\n    print(n,\"is odd\")', 'a = int(input(\"enter 1st number\"))\\nb = int(input(\"enter 2st number\"))\\nc = int(input(\"enter 3st number\"))\\n\\nif a>b and a>c:\\n    print(a,\"is the largest\")\\nelif b>c:\\n    print(b,\"is the largest\")\\nelse:\\n    print(c,\"is the largest\")', 'a=13\\nif a%3==0 or a%5==0:\\n    print(a,\"is divisible by either  3 or 5\")\\nelse:\\n    print(b,\"is not divisible by neither 3 or 5\")', 'a= 13\\nif a%3==0 or a%5==0:\\n    print(a,\"is divisible by either  3 or 5\")\\nelse:\\n    print(b,\"is not divisible by neither 3 or 5\")', 'a= 23\\nif a%3==0 or a%5==0:\\n    print(a,\"is divisible by either  3 or 5\")\\nelse:\\n    print(b,\"is not divisible by neither 3 or 5\")', 'a= 10\\nif a%3==0 or a%5==0:\\n    print(a,\"is divisible by either  3 or 5\")\\nelse:\\n    print(b,\"is not divisible by neither 3 or 5\")', 'n = int(input(\"enter a number \\\\n\"))\\n\\nif not (n%2==0):\\n    print(n,\"odd number\")\\nelse\\n    print(n,\"even number\")', 'n = int(input(\"enter a number \\\\n\"))\\n\\nif not (n%2==0):\\n    print(n,\"odd number\")\\nelse:\\n    print(n,\"even number\")', 'lst=[10,20,30,40,50]\\n\\ni=0\\nwhile i<5:\\n    print(lst[i])\\n    i=i+1', 'lst=[10,20,30,40,50]\\n\\nfor i in lst:\\n    print(i)', 'print(range(5))', 'n = int(input(\"Enter a number\\\\n\"))\\n\\nfor i in range(2,n+1):\\n    if n%i==0:\\n        break\\nif i==n:\\n    print(n,\"is prime\")\\nelse:\\n    print(n,\"is not prime\")', 'even_sum,odd_sum = 0,0\\nn = int(input(\"enter the value of n:\\\\n\"))\\nfor i in range(1,n+1):\\n    if i%2==0:\\n        even_sum +=i\\n        continue\\n    odd_sum += i\\n    \\nprint(\"sum of all even numbers is:, even_sum\")\\nprint(\"sum of all odd numbers is:,odd_sum\")', 'even_sum,odd_sum = 0,0\\nn = int(input(\"enter the value of n:\\\\n\"))\\nfor i in range(1,n+1):\\n    if i%2==0:\\n        even_sum +=i\\n        continue\\n    odd_sum += i\\n    \\nprint(\"sum of all even numbers is:\", even_sum)\\nprint(\"sum of all odd numbers is:\",odd_sum)', 'even_sum,odd_sum = 0,0\\nn = int(input(\"enter the value of n:\\\\n\"))\\nfor i in range(1,n+1):\\n    if i%2==0:\\n        even_sum += i\\n        continue\\n    odd_sum += i\\n    \\nprint(\"sum of all even numbers is:\", even_sum)\\nprint(\"sum of all odd numbers is:\",odd_sum)', 'even_sum,odd_sum = 0,0\\nn = int(input(\"enter the value of n:\\\\n\"))\\nfor i in range(1,n+1):\\n    if i%2==0:\\n        even_sum += i\\n        continue\\n    odd_sum += i\\n    \\nprint(\"sum of all even numbers is:\", even_sum)\\nprint(\"sum of all odd numbers is:\",odd_sum)', 'ab = (lambda num,p : num**p) (2,5)\\nprint(res)', 'ab = (lambda num,p : num**p) (2,5)\\nprint(ab)', 'da = lambda num,den : num/den\\nd=fun(100,2)\\nprint(d)\\n\\nd1 = fun(10,2)\\nprint(d1)', 'da = lambda num,den : num/den\\nd=da(100,2)\\nprint(d)\\n\\nd1 = da(10,2)\\nprint(d1)', 'lst = [10,22,35,67,55]\\ndef fun(x):\\n        if x%2 == 0:\\n            return True\\n        else:\\n            return False\\nevn_lst = list(filter(fun,lst))\\nprint(evn_lst)', 'lst = [10,22,8,67,55]\\ndef fun(x):\\n        if x%2 == 0:\\n            return True\\n        else:\\n            return False\\nevn_lst = list(filter(fun,lst))\\nprint(evn_lst)', 'lst = [21,343,56,31,34,45]\\n\\nresult = list(filter(lambda x: (x%2 ==0),lst))\\nprint(result)', 'from functools import reduce\\n\\nlst = [1,2,3,4,5]\\n\\ndef fun(x,y)', 'from functools import reduce\\n\\nlst = [1,2,3,4,5]\\n\\ndef fun(x,y):\\n    return x+y\\nres= reduce(fun,lst)\\nprint(res)', 'lst = [21,343,56,31,34,45]\\n\\nresult = reduce(lambda x,y: x+y,lst))\\nprint(result)', 'lst = [21,343,56,31,34,45]\\n\\nresult = reduce(lambda x,y: x+y,lst)\\nprint(result)', 'lst = [1,2,3,4,5]\\n\\ndef fun():\\n    return x**2\\n\\ns_lst = list(map(fun,lst))\\nprint(sq_lst)', 'lst = [1,2,3,4,5]\\n\\ndef fun(X):\\n    return x**2\\n\\ns_lst = list(map(fun,lst))\\nprint(sq_lst)', 'lst = [1,2,3,4,5]\\n\\ndef fun(X):\\n    return x**2\\n\\ns_lst = list(map(fun,lst))\\nprint(s_lst)', 'lst = [1,2,3,4,5]\\n\\ndef fun(x):\\n    return x**2\\n\\ns_lst = list(map(fun,lst))\\nprint(s_lst)', 'x = 33\\ndef fun():\\n    y=999\\n    print(y)\\nfun()', 'x = 99\\n\\ndef fun():\\n    y=999\\n    print(y)\\nfun()\\nprint(y)', 'x = 99\\n\\ndef fun():\\n    y=999\\n    print(y)\\n    print(global())\\nfun()\\nprint(x)', 'x = 99\\n\\ndef fun():\\n    y=999\\n    print(y)\\n    print(globals())\\nfun()\\nprint(x)'], '_oh': {}, '_dh': ['C:\\\\Users\\\\rishitha1905'], 'In': ['', 'a = 10;\\nb = 20,\\nprint(\"a= \",a)\\nprint(\"b= \",b)\\nb,a=a,b\\nprint(\\'a= \\',a)\\nprint(\"b= \",b)', 'a = 10;\\nb = 20,\\nprint(\"a= \",a);\\nprint(\"b= \",b)\\nb,a=a,b\\nprint(\\'a= \\',a)\\nprint(\"b= \",b)', 'a = 10;\\nb = 20,\\nprint(\"a= \",a);\\nprint(\"b= \",b);\\nb,a=a,b\\nprint(\"a= \",a);\\nprint(\"b= \",b)', 'a = 10;\\nb = 20,\\nprint(\"a= \",a);\\nprint(\"b= \",b);\\nb,a=a,b\\nprint(\"a= \",a);\\nprint(\"b= \",b);', 'a = 10;\\nb = 20;\\nprint(\"a= \",a);\\nprint(\"b= \",b);\\nb,a=a,b\\nprint(\"a= \",a);\\nprint(\"b= \",b);', 'a = 10\\nb = 20\\nprint(\"a= \",a)\\nprint(\"b= \",b)\\nb,a=a,b\\nprint(\"a= \",a)\\nprint(\"b= \",b)', 'a=10\\nprint(a)\\nprint(type(a))', 'b = 99.9\\nprint(b)\\nprint(type(b))', 'b = 19.9\\nprint(b)\\nprint(type(b))', 'c = \"UNIQUE\"\\nprint(c)\\nprint(type(c))', 'd = 3+6j\\nprint(d)\\nprint(type(d))', 'e = 5>6\\nprint(e)\\nprint(type(e))', 'lst = [23,43,22,45,54,22]\\nprint(lst)\\nprint(type(lst))', 'lst = [10,19.9,\"UNIQUE\",True]\\nprint(lst)\\nprint(type(lst))\\n\\nprint(lst[0])\\nprint(lst[-4])', 'lst = [10,19.9,\"UNIQUE\",True]\\nprint(lst)\\nprint(type(lst))\\nlst.append(200)\\nprint(lst)\\n\\nlst.remove(200)\\nprint(lst)', 't = (2,18.8,\"RIshitha\",False)\\nprint(t)\\nprint(type(t))\\nprint(t[0])\\nprint(t[-4])', 't = (10,22.9,\"YBY\",True)\\nprint(t)\\nt.append(200)\\nprint(t)', 's = {10,20,30,40}\\nprint(s)\\nprint(type(s))\\nprint(s[0])', 's = {10,20,30,40}\\nprint(s)\\nprint(type(s))\\ns.add(201)\\nprint(s)\\ns.remove(201)\\nprint(s)\\ns.add(32)\\nprint(s)', 's = {10,20,30,40}\\nprint(s)\\nprint(type(s))\\ns.add(201)\\nprint(s)\\ns.remove(201)\\nprint(s)\\ns.add(32)\\nprint(s)\\ns.add(12)\\nprint(S)', 's = {10,20,30,40}\\nprint(s)\\nprint(type(s))\\ns.add(201)\\nprint(s)\\ns.remove(201)\\nprint(s)\\ns.add(32)\\nprint(s)\\ns.add(12)\\nprint(s)', 's = {10,20,30,40}\\nprint(s)\\nprint(type(s))\\ns.add(201)\\nprint(s)\\ns.remove(201)\\nprint(s)\\ns.add(32)\\nprint(s)\\ns.add(123)\\nprint(s)', 's = {10,20,30,40}\\nprint(s)\\nprint(type(s))\\ns.add(201)\\nprint(s)\\ns.remove(201)\\nprint(s)\\ns.add(32)\\nprint(s)\\ns.add(123)\\nprint(s)\\ns.add(123)\\nprint(s)', 's = {10,20,30,40}\\nprint(s)\\nprint(type(s))\\ns.add(201)\\nprint(s)\\ns.remove(201)\\nprint(s)\\ns.add(32)\\nprint(s)\\ns.add(123)\\nprint(s)\\ns.add(343)\\nprint(s)', 'd = {\"Andhra Pradesh\":\" Vijayawada\",\"Telengana\":\"Hyderbad\",\"Maharastra\":\"Mumbai\"}\\nprint(d)\\nprint(type(d))', 'd = {\"Andhra Pradesh\":\" Vijayawada\",\"Telengana\":\"Hyderbad\",\"Maharastra\":\"Mumbai\"}\\nprint(d)\\nprint(type(d))\\nd[\"Tamilnadu\"]= \"chennai\"\\nprint(d)', 'd = {\"Andhra Pradesh\":\" Vijayawada\",\"Telengana\":\"Hyderbad\",\"Maharastra\":\"Mumbai\"}\\nprint(d)\\nprint(type(d))\\nd[\"Tamilnadu\"]= \"chennai\"\\nprint(d)\\nd.pop(\"Tamilnau\")\\nd', 'd = {\"Andhra Pradesh\":\" Vijayawada\",\"Telengana\":\"Hyderbad\",\"Maharastra\":\"Mumbai\"}\\nprint(d)\\nprint(type(d))\\nd[\"Tamilnadu\"]= \"chennai\"\\nprint(d)\\nd.pop(\"Tamilnau\")\\nprint(d)', 'd = {\"Andhra Pradesh\":\" Vijayawada\",\"Telengana\":\"Hyderbad\",\"Maharastra\":\"Mumbai\"}\\nprint(d)\\nprint(type(d))\\nd[\"Tamilnadu\"]= \"chennai\"\\nprint(d)\\nd.pop(\"Tamilnadu\")\\nprint(d)', 'a = 9899\\nprint(a)\\nprint(type(a))\\nb = float(a)\\nprint(b)\\nprint(type(b))', 'a = 9899.44\\nprint(a)\\nprint(type(a))\\nb = int(a)\\nprint(b)\\nprint(type(b))', 'a = 9899.44\\nprint(a)\\nprint(type(a))\\nb = complex(a)\\nprint(b)\\nprint(type(b))', 'a = 9899\\nprint(a)\\nprint(type(a))\\nb = str(a)\\nprint(b)\\nprint(type(b))', 'a = 10\\nprint(a)\\nprint(id)', 'a = 10\\nprint(a)\\nprint(id(a))', 'a = 10\\nb=10\\nprint(a)\\nprint(id(a))\\nprint(id(b))', 'lis=[23,43,45,22]\\nprint(lis)\\nprint(type(lis))\\n\\nlis.append(200)\\nprint(lis)', 'lis1=[23,43,45,22]\\nprint(lis)\\nprint(type(lis))\\n\\nprint(lis is lis1)', 'def mul():\\n    a=10\\n    b=20\\n    c=a*b\\n    print(c)\\nmul()', 'def mul(x,y):\\n    c = x*y\\n    print(c)\\nmul(10,20)', 'def mul():\\n    a=10\\n    b=20\\n    c=a*b\\n    return c\\nre = mul()\\nprint(re)', 'def mul(x,y)\\n    c = x*y\\n    return c\\nres =mul(10,20)\\nprint(res)', 'def mul(x,y):\\n    c = x*y\\n    return c\\nres =mul(10,20)\\nprint(res)', 'def p(a,b):\\n    c = a**b\\n    print(c)\\np(2,5)', 'def p(a,b):\\n    c = a**b\\n    print(c)\\np(2,5)\\np(5,2)', 'def p(a,b):\\n    c = a**b\\n    print(c)\\np(2,5)\\np(5,2)\\np(2)', 'def p(a,b=0):\\n    c = a**b\\n    print(c)\\n\\np(2)', 'def p(a,b=0):\\n    c = a**b\\n    print(c)\\np(2)\\np(5,2)', 'def p(a,b):\\n    c = a**b\\n    print(c)\\np(a=2,b=4)\\np(a=5,b=2)', 'def pizza_toppings():\\n    print(toppings)\\n\\npizza_toppings(\"cheese\")\\npizza_toppings(\"cheese\",\"onion\",\"olives\",\"corn\")', 'def pizza_toppings():\\n    print(toppings)\\n\\n#pizza_toppings(\"cheese\")\\npizza_toppings(\"cheese\",\"onion\",\"olives\",\"corn\")', 'def pizza_toppings():\\n    print(toppings)\\n    print(type(toppings))\\n\\n#pizza_toppings(\"cheese\")\\npizza_toppings(\"cheese\",\"onion\",\"olives\",\"corn\")', 'def pizza_toppings(*toppings):\\n    print(toppings)\\n    print(type(toppings))\\n\\n#pizza_toppings(\"cheese\")\\npizza_toppings(\"cheese\",\"onion\",\"olives\",\"corn\")', 'def pizza_toppings(*toppings):\\n    print(toppings)\\n    print(type(toppings))\\n\\n#pizza_toppings(\"cheese\",\"thin\")\\npizza_toppings(\"cheese\",\"onion\",\"olives\",\"corn\")', 'def collect(**data):\\n    print(data)\\ncollect(name=\"Rishitha\", age=23,avg=55,gender=\"F\")', 'def fun():\\n    a=10\\n    b=20\\n    c=30\\n    return a,b,c\\nprint(fun())', 'def func1():\\n    x=50\\n    return x\\nfunc1()\\nprint(x)', 'x=50\\ndef func1():\\n    x=50\\n    return x\\nfunc1()\\nprint(x)', 'x=50\\ndef func1():\\n    #x=50\\n    return x\\nfunc1()\\nprint(x)', 'def func1():\\n    x=50\\n    return x\\nfunc1()\\nprint(x)', 'def func1():\\n    x=50\\n    return x\\nfunc1()\\nprint(x)', 'def func1():\\n    x=50\\n    return x\\nfunc1()\\nprint(x)', 'def func1():\\n    x=50\\n    return x\\nfunc1()\\nprint(x)', 'def func1():\\n    y=50\\n    return x\\nfunc1()\\nprint(x)', 'def func1():\\n    y=50\\n    return x\\nfunc1()\\nprint(y)', 'def func1():\\n    y=50\\n    return y\\nfunc1()\\nprint(y)', 'def fun():\\n    a=10\\n    b=20\\n    c=30\\n    return a,b,c\\nres1,res2,re=fun()\\nprint(res1)\\nprint(res2)\\nprint(re)', 'print(\"enter the numerator\")', 'print(\"enter the numerator\")\\nnum = input()\\nprint(\"enter the denominator\")\\nden = input()\\n\\nres = num/den\\nprint(res)', 'num = input(\"enter the numerator\")\\nnum \\nden = input(\"enter the denominator\")\\nden \\n\\nres = num/den\\nprint(res)', 'num = int(input(\"enter the numerator\"))\\nnum \\nden = int(input(\"enter the denominator\"))\\nden \\n\\nres = num/den\\nprint(res)', 'import sys\\n\\nprint(sys.argv[0])\\nprint(sys.argv[1])\\nprint(sys.argv[2])\\n\\nres = int(sys.argv[1]/int(sys.argv[2]))\\nprint(res)', 'import sys\\n\\nprint(sys.argv[0])\\nprint(sys.argv[1])\\nprint(sys.argv[2])\\n\\nres = int(sys.argv[1])/int(sys.argv[2]))\\nprint(res)', 'import sys\\n\\nprint(sys.argv[0])\\nprint(sys.argv[1])\\nprint(sys.argv[2])\\n\\nres = int(sys.argv[1])/int(sys.argv[2])\\nprint(res)', 'import sys\\n\\nprint(sys.argv[0])\\nprint(sys.argv[1])\\nprint(sys.argv[2])\\n\\nr = int(sys.argv[1])/int(sys.argv[2])\\nprint(r)', 'import sys\\n\\nprint(sys.argv[0])\\nprint(sys.argv[1])\\nprint(sys.argv[2])\\n\\nr = sys.argv[1]/sys.argv[2]\\nprint(r)', 'import sys\\n\\nprint(sys.argv[0])\\nprint(sys.argv[1])\\nprint(sys.argv[2])\\n\\nr = int(sys.argv[1])/int(sys.argv[2])\\nprint(r)', 'if True:\\n    print(\"condition i true\")', 'if False:\\n    print(\"condition is true\")', 'if False:\\n    print(\"condition is true\")', 'n = int(input(\"enter a number\"))\\nif n%2==0:\\n    print(n,\"is even\")', 'n = int(input(\"enter a number\"))\\nif n%2==0:\\n    print(n,\"is even\")\\n    ', 'n = int(input(\"enter a number \\\\n\"))\\nif n%2==0:\\n    print(n,\"is even\")\\n    ', 'n = int(input(\"enter a number \\\\n\"))\\nif n%2==0:\\n    print(n,\"is even\")\\nelse:\\n    print(n,\"is odd\")', 'n = int(input(\"enter a number \\\\n\"))\\nif n%2==0:\\n    print(\"is even\")\\nelse:\\n    print(n,\"is odd\")', 'n = int(input(\"enter a number \\\\n\"))\\nif n%2==0:\\n    print(\"is even\")\\nelse:\\n    print(n,\"is odd\")', 'n = int(input(\"enter a number \\\\n\"))\\nif n%2==0:\\n    print(n,\"is even\")\\nelse:\\n    print(n,\"is odd\")', 'n = int(input(\"enter a number \\\\n\"))\\nif n%2==0:\\n    print(n,\"is even\")\\nelse:\\n    print(n,\"is odd\")', 'a = int(input(\"enter 1st number\"))\\nb = int(input(\"enter 2st number\"))\\nc = int(input(\"enter 3st number\"))\\n\\nif a>b and a>c:\\n    print(a,\"is the largest\")\\nelif b>c:\\n    print(b,\"is the largest\")\\nelse:\\n    print(c,\"is the largest\")', 'a=13\\nif a%3==0 or a%5==0:\\n    print(a,\"is divisible by either  3 or 5\")\\nelse:\\n    print(b,\"is not divisible by neither 3 or 5\")', 'a= 13\\nif a%3==0 or a%5==0:\\n    print(a,\"is divisible by either  3 or 5\")\\nelse:\\n    print(b,\"is not divisible by neither 3 or 5\")', 'a= 23\\nif a%3==0 or a%5==0:\\n    print(a,\"is divisible by either  3 or 5\")\\nelse:\\n    print(b,\"is not divisible by neither 3 or 5\")', 'a= 10\\nif a%3==0 or a%5==0:\\n    print(a,\"is divisible by either  3 or 5\")\\nelse:\\n    print(b,\"is not divisible by neither 3 or 5\")', 'n = int(input(\"enter a number \\\\n\"))\\n\\nif not (n%2==0):\\n    print(n,\"odd number\")\\nelse\\n    print(n,\"even number\")', 'n = int(input(\"enter a number \\\\n\"))\\n\\nif not (n%2==0):\\n    print(n,\"odd number\")\\nelse:\\n    print(n,\"even number\")', 'lst=[10,20,30,40,50]\\n\\ni=0\\nwhile i<5:\\n    print(lst[i])\\n    i=i+1', 'lst=[10,20,30,40,50]\\n\\nfor i in lst:\\n    print(i)', 'print(range(5))', 'n = int(input(\"Enter a number\\\\n\"))\\n\\nfor i in range(2,n+1):\\n    if n%i==0:\\n        break\\nif i==n:\\n    print(n,\"is prime\")\\nelse:\\n    print(n,\"is not prime\")', 'even_sum,odd_sum = 0,0\\nn = int(input(\"enter the value of n:\\\\n\"))\\nfor i in range(1,n+1):\\n    if i%2==0:\\n        even_sum +=i\\n        continue\\n    odd_sum += i\\n    \\nprint(\"sum of all even numbers is:, even_sum\")\\nprint(\"sum of all odd numbers is:,odd_sum\")', 'even_sum,odd_sum = 0,0\\nn = int(input(\"enter the value of n:\\\\n\"))\\nfor i in range(1,n+1):\\n    if i%2==0:\\n        even_sum +=i\\n        continue\\n    odd_sum += i\\n    \\nprint(\"sum of all even numbers is:\", even_sum)\\nprint(\"sum of all odd numbers is:\",odd_sum)', 'even_sum,odd_sum = 0,0\\nn = int(input(\"enter the value of n:\\\\n\"))\\nfor i in range(1,n+1):\\n    if i%2==0:\\n        even_sum += i\\n        continue\\n    odd_sum += i\\n    \\nprint(\"sum of all even numbers is:\", even_sum)\\nprint(\"sum of all odd numbers is:\",odd_sum)', 'even_sum,odd_sum = 0,0\\nn = int(input(\"enter the value of n:\\\\n\"))\\nfor i in range(1,n+1):\\n    if i%2==0:\\n        even_sum += i\\n        continue\\n    odd_sum += i\\n    \\nprint(\"sum of all even numbers is:\", even_sum)\\nprint(\"sum of all odd numbers is:\",odd_sum)', 'ab = (lambda num,p : num**p) (2,5)\\nprint(res)', 'ab = (lambda num,p : num**p) (2,5)\\nprint(ab)', 'da = lambda num,den : num/den\\nd=fun(100,2)\\nprint(d)\\n\\nd1 = fun(10,2)\\nprint(d1)', 'da = lambda num,den : num/den\\nd=da(100,2)\\nprint(d)\\n\\nd1 = da(10,2)\\nprint(d1)', 'lst = [10,22,35,67,55]\\ndef fun(x):\\n        if x%2 == 0:\\n            return True\\n        else:\\n            return False\\nevn_lst = list(filter(fun,lst))\\nprint(evn_lst)', 'lst = [10,22,8,67,55]\\ndef fun(x):\\n        if x%2 == 0:\\n            return True\\n        else:\\n            return False\\nevn_lst = list(filter(fun,lst))\\nprint(evn_lst)', 'lst = [21,343,56,31,34,45]\\n\\nresult = list(filter(lambda x: (x%2 ==0),lst))\\nprint(result)', 'from functools import reduce\\n\\nlst = [1,2,3,4,5]\\n\\ndef fun(x,y)', 'from functools import reduce\\n\\nlst = [1,2,3,4,5]\\n\\ndef fun(x,y):\\n    return x+y\\nres= reduce(fun,lst)\\nprint(res)', 'lst = [21,343,56,31,34,45]\\n\\nresult = reduce(lambda x,y: x+y,lst))\\nprint(result)', 'lst = [21,343,56,31,34,45]\\n\\nresult = reduce(lambda x,y: x+y,lst)\\nprint(result)', 'lst = [1,2,3,4,5]\\n\\ndef fun():\\n    return x**2\\n\\ns_lst = list(map(fun,lst))\\nprint(sq_lst)', 'lst = [1,2,3,4,5]\\n\\ndef fun(X):\\n    return x**2\\n\\ns_lst = list(map(fun,lst))\\nprint(sq_lst)', 'lst = [1,2,3,4,5]\\n\\ndef fun(X):\\n    return x**2\\n\\ns_lst = list(map(fun,lst))\\nprint(s_lst)', 'lst = [1,2,3,4,5]\\n\\ndef fun(x):\\n    return x**2\\n\\ns_lst = list(map(fun,lst))\\nprint(s_lst)', 'x = 33\\ndef fun():\\n    y=999\\n    print(y)\\nfun()', 'x = 99\\n\\ndef fun():\\n    y=999\\n    print(y)\\nfun()\\nprint(y)', 'x = 99\\n\\ndef fun():\\n    y=999\\n    print(y)\\n    print(global())\\nfun()\\nprint(x)', 'x = 99\\n\\ndef fun():\\n    y=999\\n    print(y)\\n    print(globals())\\nfun()\\nprint(x)'], 'Out': {}, 'get_ipython': <bound method InteractiveShell.get_ipython of <ipykernel.zmqshell.ZMQInteractiveShell object at 0x000001FFFFC4CE88>>, 'exit': <IPython.core.autocall.ZMQExitAutocall object at 0x000001FFFFCDAC48>, 'quit': <IPython.core.autocall.ZMQExitAutocall object at 0x000001FFFFCDAC48>, '_': '', '__': '', '___': '', '_i': 'x = 99\\n\\ndef fun():\\n    y=999\\n    print(y)\\n    print(global())\\nfun()\\nprint(x)', '_ii': 'x = 99\\n\\ndef fun():\\n    y=999\\n    print(y)\\nfun()\\nprint(y)', '_iii': 'x = 33\\ndef fun():\\n    y=999\\n    print(y)\\nfun()', '_i1': 'a = 10;\\nb = 20,\\nprint(\"a= \",a)\\nprint(\"b= \",b)\\nb,a=a,b\\nprint(\\'a= \\',a)\\nprint(\"b= \",b)', 'a': 10, 'b': 3, '_i2': 'a = 10;\\nb = 20,\\nprint(\"a= \",a);\\nprint(\"b= \",b)\\nb,a=a,b\\nprint(\\'a= \\',a)\\nprint(\"b= \",b)', '_i3': 'a = 10;\\nb = 20,\\nprint(\"a= \",a);\\nprint(\"b= \",b);\\nb,a=a,b\\nprint(\"a= \",a);\\nprint(\"b= \",b)', '_i4': 'a = 10;\\nb = 20,\\nprint(\"a= \",a);\\nprint(\"b= \",b);\\nb,a=a,b\\nprint(\"a= \",a);\\nprint(\"b= \",b);', '_i5': 'a = 10;\\nb = 20;\\nprint(\"a= \",a);\\nprint(\"b= \",b);\\nb,a=a,b\\nprint(\"a= \",a);\\nprint(\"b= \",b);', '_i6': 'a = 10\\nb = 20\\nprint(\"a= \",a)\\nprint(\"b= \",b)\\nb,a=a,b\\nprint(\"a= \",a)\\nprint(\"b= \",b)', '_i7': 'a=10\\nprint(a)\\nprint(type(a))', '_i8': 'b = 99.9\\nprint(b)\\nprint(type(b))', '_i9': 'b = 19.9\\nprint(b)\\nprint(type(b))', '_i10': 'c = \"UNIQUE\"\\nprint(c)\\nprint(type(c))', 'c': 4, '_i11': 'd = 3+6j\\nprint(d)\\nprint(type(d))', 'd': 50.0, '_i12': 'e = 5>6\\nprint(e)\\nprint(type(e))', 'e': False, '_i13': 'lst = [23,43,22,45,54,22]\\nprint(lst)\\nprint(type(lst))', 'lst': [1, 2, 3, 4, 5], '_i14': 'lst = [10,19.9,\"UNIQUE\",True]\\nprint(lst)\\nprint(type(lst))\\n\\nprint(lst[0])\\nprint(lst[-4])', '_i15': 'lst = [10,19.9,\"UNIQUE\",True]\\nprint(lst)\\nprint(type(lst))\\nlst.append(200)\\nprint(lst)\\n\\nlst.remove(200)\\nprint(lst)', '_i16': 't = (2,18.8,\"RIshitha\",False)\\nprint(t)\\nprint(type(t))\\nprint(t[0])\\nprint(t[-4])', 't': (10, 22.9, 'YBY', True), '_i17': 't = (10,22.9,\"YBY\",True)\\nprint(t)\\nt.append(200)\\nprint(t)', '_i18': 's = {10,20,30,40}\\nprint(s)\\nprint(type(s))\\nprint(s[0])', 's': {32, 40, 10, 20, 343, 123, 30}, '_i19': 's = {10,20,30,40}\\nprint(s)\\nprint(type(s))\\ns.add(201)\\nprint(s)\\ns.remove(201)\\nprint(s)\\ns.add(32)\\nprint(s)', '_i20': 's = {10,20,30,40}\\nprint(s)\\nprint(type(s))\\ns.add(201)\\nprint(s)\\ns.remove(201)\\nprint(s)\\ns.add(32)\\nprint(s)\\ns.add(12)\\nprint(S)', '_i21': 's = {10,20,30,40}\\nprint(s)\\nprint(type(s))\\ns.add(201)\\nprint(s)\\ns.remove(201)\\nprint(s)\\ns.add(32)\\nprint(s)\\ns.add(12)\\nprint(s)', '_i22': 's = {10,20,30,40}\\nprint(s)\\nprint(type(s))\\ns.add(201)\\nprint(s)\\ns.remove(201)\\nprint(s)\\ns.add(32)\\nprint(s)\\ns.add(123)\\nprint(s)', '_i23': 's = {10,20,30,40}\\nprint(s)\\nprint(type(s))\\ns.add(201)\\nprint(s)\\ns.remove(201)\\nprint(s)\\ns.add(32)\\nprint(s)\\ns.add(123)\\nprint(s)\\ns.add(123)\\nprint(s)', '_i24': 's = {10,20,30,40}\\nprint(s)\\nprint(type(s))\\ns.add(201)\\nprint(s)\\ns.remove(201)\\nprint(s)\\ns.add(32)\\nprint(s)\\ns.add(123)\\nprint(s)\\ns.add(343)\\nprint(s)', '_i25': 'd = {\"Andhra Pradesh\":\" Vijayawada\",\"Telengana\":\"Hyderbad\",\"Maharastra\":\"Mumbai\"}\\nprint(d)\\nprint(type(d))', '_i26': 'd = {\"Andhra Pradesh\":\" Vijayawada\",\"Telengana\":\"Hyderbad\",\"Maharastra\":\"Mumbai\"}\\nprint(d)\\nprint(type(d))\\nd[\"Tamilnadu\"]= \"chennai\"\\nprint(d)', '_i27': 'd = {\"Andhra Pradesh\":\" Vijayawada\",\"Telengana\":\"Hyderbad\",\"Maharastra\":\"Mumbai\"}\\nprint(d)\\nprint(type(d))\\nd[\"Tamilnadu\"]= \"chennai\"\\nprint(d)\\nd.pop(\"Tamilnau\")\\nd', '_i28': 'd = {\"Andhra Pradesh\":\" Vijayawada\",\"Telengana\":\"Hyderbad\",\"Maharastra\":\"Mumbai\"}\\nprint(d)\\nprint(type(d))\\nd[\"Tamilnadu\"]= \"chennai\"\\nprint(d)\\nd.pop(\"Tamilnau\")\\nprint(d)', '_i29': 'd = {\"Andhra Pradesh\":\" Vijayawada\",\"Telengana\":\"Hyderbad\",\"Maharastra\":\"Mumbai\"}\\nprint(d)\\nprint(type(d))\\nd[\"Tamilnadu\"]= \"chennai\"\\nprint(d)\\nd.pop(\"Tamilnadu\")\\nprint(d)', '_i30': 'a = 9899\\nprint(a)\\nprint(type(a))\\nb = float(a)\\nprint(b)\\nprint(type(b))', '_i31': 'a = 9899.44\\nprint(a)\\nprint(type(a))\\nb = int(a)\\nprint(b)\\nprint(type(b))', '_i32': 'a = 9899.44\\nprint(a)\\nprint(type(a))\\nb = complex(a)\\nprint(b)\\nprint(type(b))', '_i33': 'a = 9899\\nprint(a)\\nprint(type(a))\\nb = str(a)\\nprint(b)\\nprint(type(b))', '_i34': 'a = 10\\nprint(a)\\nprint(id)', '_i35': 'a = 10\\nprint(a)\\nprint(id(a))', '_i36': 'a = 10\\nb=10\\nprint(a)\\nprint(id(a))\\nprint(id(b))', '_i37': 'lis=[23,43,45,22]\\nprint(lis)\\nprint(type(lis))\\n\\nlis.append(200)\\nprint(lis)', 'lis': [23, 43, 45, 22, 200], '_i38': 'lis1=[23,43,45,22]\\nprint(lis)\\nprint(type(lis))\\n\\nprint(lis is lis1)', 'lis1': [23, 43, 45, 22], '_i39': 'def mul():\\n    a=10\\n    b=20\\n    c=a*b\\n    print(c)\\nmul()', 'mul': <function mul at 0x000001FFFFE9D1F8>, '_i40': 'def mul(x,y):\\n    c = x*y\\n    print(c)\\nmul(10,20)', '_i41': 'def mul():\\n    a=10\\n    b=20\\n    c=a*b\\n    return c\\nre = mul()\\nprint(re)', 're': 30, '_i42': 'def mul(x,y)\\n    c = x*y\\n    return c\\nres =mul(10,20)\\nprint(res)', '_i43': 'def mul(x,y):\\n    c = x*y\\n    return c\\nres =mul(10,20)\\nprint(res)', 'res': 15, '_i44': 'def p(a,b):\\n    c = a**b\\n    print(c)\\np(2,5)', 'p': <function p at 0x000001FFFFE9B1F8>, '_i45': 'def p(a,b):\\n    c = a**b\\n    print(c)\\np(2,5)\\np(5,2)', '_i46': 'def p(a,b):\\n    c = a**b\\n    print(c)\\np(2,5)\\np(5,2)\\np(2)', '_i47': 'def p(a,b=0):\\n    c = a**b\\n    print(c)\\n\\np(2)', '_i48': 'def p(a,b=0):\\n    c = a**b\\n    print(c)\\np(2)\\np(5,2)', '_i49': 'def p(a,b):\\n    c = a**b\\n    print(c)\\np(a=2,b=4)\\np(a=5,b=2)', '_i50': 'def pizza_toppings():\\n    print(toppings)\\n\\npizza_toppings(\"cheese\")\\npizza_toppings(\"cheese\",\"onion\",\"olives\",\"corn\")', 'pizza_toppings': <function pizza_toppings at 0x000001FFFFE9D558>, '_i51': 'def pizza_toppings():\\n    print(toppings)\\n\\n#pizza_toppings(\"cheese\")\\npizza_toppings(\"cheese\",\"onion\",\"olives\",\"corn\")', '_i52': 'def pizza_toppings():\\n    print(toppings)\\n    print(type(toppings))\\n\\n#pizza_toppings(\"cheese\")\\npizza_toppings(\"cheese\",\"onion\",\"olives\",\"corn\")', '_i53': 'def pizza_toppings(*toppings):\\n    print(toppings)\\n    print(type(toppings))\\n\\n#pizza_toppings(\"cheese\")\\npizza_toppings(\"cheese\",\"onion\",\"olives\",\"corn\")', '_i54': 'def pizza_toppings(*toppings):\\n    print(toppings)\\n    print(type(toppings))\\n\\n#pizza_toppings(\"cheese\",\"thin\")\\npizza_toppings(\"cheese\",\"onion\",\"olives\",\"corn\")', '_i55': 'def collect(**data):\\n    print(data)\\ncollect(name=\"Rishitha\", age=23,avg=55,gender=\"F\")', 'collect': <function collect at 0x000001FFFFE9D438>, '_i56': 'def fun():\\n    a=10\\n    b=20\\n    c=30\\n    return a,b,c\\nprint(fun())', 'fun': <function fun at 0x000001FFFFDF9948>, '_i57': 'def func1():\\n    x=50\\n    return x\\nfunc1()\\nprint(x)', 'func1': <function func1 at 0x000001FFFFE9D0D8>, '_i58': 'x=50\\ndef func1():\\n    x=50\\n    return x\\nfunc1()\\nprint(x)', 'x': 99, '_i59': 'x=50\\ndef func1():\\n    #x=50\\n    return x\\nfunc1()\\nprint(x)', '_i60': '\\ndef func1():\\n    x=50\\n    return x\\nfunc1()\\nprint(x)', '_i61': 'def func1():\\n    x=50\\n    return x\\nfunc1()\\nprint(x)', '_i62': 'def func1():\\n    x=50\\n    return x\\nfunc1()\\nprint(x)', '_i63': 'def func1():\\n    x=50\\n    return x\\nfunc1()\\nprint(x)', '_i64': 'def func1():\\n    y=50\\n    return x\\nfunc1()\\nprint(x)', '_i65': 'def func1():\\n    y=50\\n    return x\\nfunc1()\\nprint(y)', '_i66': 'def func1():\\n    y=50\\n    return y\\nfunc1()\\nprint(y)', '_i67': 'def fun():\\n    a=10\\n    b=20\\n    c=30\\n    return a,b,c\\nres1,res2,re=fun()\\nprint(res1)\\nprint(res2)\\nprint(re)', 'res1': 10, 'res2': 20, '_i68': 'print(\"enter the numerator\")', '_i69': 'print(\"enter the numerator\")\\nnum = input()\\nprint(\"enter the denominator\")\\nden = input()\\n\\nres = num/den\\nprint(res)', 'num': 20, 'den': 2, '_i70': 'num = input(\"enter the numerator\")\\nnum \\nden = input(\"enter the denominator\")\\nden \\n\\nres = num/den\\nprint(res)', '_i71': 'num = int(input(\"enter the numerator\"))\\nnum \\nden = int(input(\"enter the denominator\"))\\nden \\n\\nres = num/den\\nprint(res)', '_i72': 'import sys\\n\\nprint(sys.argv[0])\\nprint(sys.argv[1])\\nprint(sys.argv[2])\\n\\nres = int(sys.argv[1]/int(sys.argv[2]))\\nprint(res)', 'sys': <module 'sys' (built-in)>, '_i73': 'import sys\\n\\nprint(sys.argv[0])\\nprint(sys.argv[1])\\nprint(sys.argv[2])\\n\\nres = int(sys.argv[1])/int(sys.argv[2]))\\nprint(res)', '_i74': 'import sys\\n\\nprint(sys.argv[0])\\nprint(sys.argv[1])\\nprint(sys.argv[2])\\n\\nres = int(sys.argv[1])/int(sys.argv[2])\\nprint(res)', '_i75': 'import sys\\n\\nprint(sys.argv[0])\\nprint(sys.argv[1])\\nprint(sys.argv[2])\\n\\nr = int(sys.argv[1])/int(sys.argv[2])\\nprint(r)', '_i76': 'import sys\\n\\nprint(sys.argv[0])\\nprint(sys.argv[1])\\nprint(sys.argv[2])\\n\\nr = sys.argv[1]/sys.argv[2]\\nprint(r)', '_i77': 'import sys\\n\\nprint(sys.argv[0])\\nprint(sys.argv[1])\\nprint(sys.argv[2])\\n\\nr = int(sys.argv[1])/int(sys.argv[2])\\nprint(r)', '_i78': 'if True:\\n    print(\"condition i true\")', '_i79': 'if False:\\n    print(\"condition is true\")', '_i80': 'if False:\\n    print(\"condition is true\")', '_i81': 'n = int(input(\"enter a number\"))\\nif n%2==0:\\n    print(n,\"is even\")', 'n': 5, '_i82': 'n = int(input(\"enter a number\"))\\nif n%2==0:\\n    print(n,\"is even\")\\n    ', '_i83': 'n = int(input(\"enter a number \\\\n\"))\\nif n%2==0:\\n    print(n,\"is even\")\\n    ', '_i84': 'n = int(input(\"enter a number \\\\n\"))\\nif n%2==0:\\n    print(n,\"is even\")\\nelse:\\n    print(n,\"is odd\")', '_i85': 'n = int(input(\"enter a number \\\\n\"))\\nif n%2==0:\\n    print(\"is even\")\\nelse:\\n    print(n,\"is odd\")', '_i86': 'n = int(input(\"enter a number \\\\n\"))\\nif n%2==0:\\n    print(\"is even\")\\nelse:\\n    print(n,\"is odd\")', '_i87': 'n = int(input(\"enter a number \\\\n\"))\\nif n%2==0:\\n    print(n,\"is even\")\\nelse:\\n    print(n,\"is odd\")', '_i88': 'n = int(input(\"enter a number \\\\n\"))\\nif n%2==0:\\n    print(n,\"is even\")\\nelse:\\n    print(n,\"is odd\")', '_i89': 'a = int(input(\"enter 1st number\"))\\nb = int(input(\"enter 2st number\"))\\nc = int(input(\"enter 3st number\"))\\n\\nif a>b and a>c:\\n    print(a,\"is the largest\")\\nelif b>c:\\n    print(b,\"is the largest\")\\nelse:\\n    print(c,\"is the largest\")', '_i90': 'a=13\\nif a%3==0 or a%5==0:\\n    print(a,\"is divisible by either  3 or 5\")\\nelse:\\n    print(b,\"is not divisible by neither 3 or 5\")', '_i91': 'a= 13\\nif a%3==0 or a%5==0:\\n    print(a,\"is divisible by either  3 or 5\")\\nelse:\\n    print(b,\"is not divisible by neither 3 or 5\")', '_i92': 'a= 23\\nif a%3==0 or a%5==0:\\n    print(a,\"is divisible by either  3 or 5\")\\nelse:\\n    print(b,\"is not divisible by neither 3 or 5\")', '_i93': 'a= 10\\nif a%3==0 or a%5==0:\\n    print(a,\"is divisible by either  3 or 5\")\\nelse:\\n    print(b,\"is not divisible by neither 3 or 5\")', '_i94': 'n = int(input(\"enter a number \\\\n\"))\\n\\nif not (n%2==0):\\n    print(n,\"odd number\")\\nelse\\n    print(n,\"even number\")', '_i95': 'n = int(input(\"enter a number \\\\n\"))\\n\\nif not (n%2==0):\\n    print(n,\"odd number\")\\nelse:\\n    print(n,\"even number\")', '_i96': 'lst=[10,20,30,40,50]\\n\\ni=0\\nwhile i<5:\\n    print(lst[i])\\n    i=i+1', 'i': 5, '_i97': 'lst=[10,20,30,40,50]\\n\\nfor i in lst:\\n    print(i)', '_i98': 'print(range(5))', '_i99': 'n = int(input(\"Enter a number\\\\n\"))\\n\\nfor i in range(2,n+1):\\n    if n%i==0:\\n        break\\nif i==n:\\n    print(n,\"is prime\")\\nelse:\\n    print(n,\"is not prime\")', '_i100': 'even_sum,odd_sum = 0,0\\nn = int(input(\"enter the value of n:\\\\n\"))\\nfor i in range(1,n+1):\\n    if i%2==0:\\n        even_sum +=i\\n        continue\\n    odd_sum += i\\n    \\nprint(\"sum of all even numbers is:, even_sum\")\\nprint(\"sum of all odd numbers is:,odd_sum\")', 'even_sum': 6, 'odd_sum': 9, '_i101': 'even_sum,odd_sum = 0,0\\nn = int(input(\"enter the value of n:\\\\n\"))\\nfor i in range(1,n+1):\\n    if i%2==0:\\n        even_sum +=i\\n        continue\\n    odd_sum += i\\n    \\nprint(\"sum of all even numbers is:\", even_sum)\\nprint(\"sum of all odd numbers is:\",odd_sum)', '_i102': 'even_sum,odd_sum = 0,0\\nn = int(input(\"enter the value of n:\\\\n\"))\\nfor i in range(1,n+1):\\n    if i%2==0:\\n        even_sum += i\\n        continue\\n    odd_sum += i\\n    \\nprint(\"sum of all even numbers is:\", even_sum)\\nprint(\"sum of all odd numbers is:\",odd_sum)', '_i103': 'even_sum,odd_sum = 0,0\\nn = int(input(\"enter the value of n:\\\\n\"))\\nfor i in range(1,n+1):\\n    if i%2==0:\\n        even_sum += i\\n        continue\\n    odd_sum += i\\n    \\nprint(\"sum of all even numbers is:\", even_sum)\\nprint(\"sum of all odd numbers is:\",odd_sum)', '_i104': 'ab = (lambda num,p : num**p) (2,5)\\nprint(res)', 'ab': 32, '_i105': 'ab = (lambda num,p : num**p) (2,5)\\nprint(ab)', '_i106': 'da = lambda num,den : num/den\\nd=fun(100,2)\\nprint(d)\\n\\nd1 = fun(10,2)\\nprint(d1)', 'da': <function <lambda> at 0x000001FFFFE9BDC8>, '_i107': 'da = lambda num,den : num/den\\nd=da(100,2)\\nprint(d)\\n\\nd1 = da(10,2)\\nprint(d1)', 'd1': 5.0, '_i108': 'lst = [10,22,35,67,55]\\ndef fun(x):\\n        if x%2 == 0:\\n            return True\\n        else:\\n            return False\\nevn_lst = list(filter(fun,lst))\\nprint(evn_lst)', 'evn_lst': [10, 22, 8], '_i109': 'lst = [10,22,8,67,55]\\ndef fun(x):\\n        if x%2 == 0:\\n            return True\\n        else:\\n            return False\\nevn_lst = list(filter(fun,lst))\\nprint(evn_lst)', '_i110': 'lst = [21,343,56,31,34,45]\\n\\nresult = list(filter(lambda x: (x%2 ==0),lst))\\nprint(result)', 'result': 530, '_i111': 'from functools import reduce\\n\\nlst = [1,2,3,4,5]\\n\\ndef fun(x,y)', '_i112': 'from functools import reduce\\n\\nlst = [1,2,3,4,5]\\n\\ndef fun(x,y):\\n    return x+y\\nres= reduce(fun,lst)\\nprint(res)', 'reduce': <built-in function reduce>, '_i113': 'lst = [21,343,56,31,34,45]\\n\\nresult = reduce(lambda x,y: x+y,lst))\\nprint(result)', '_i114': 'lst = [21,343,56,31,34,45]\\n\\nresult = reduce(lambda x,y: x+y,lst)\\nprint(result)', '_i115': 'lst = [1,2,3,4,5]\\n\\ndef fun():\\n    return x**2\\n\\ns_lst = list(map(fun,lst))\\nprint(sq_lst)', '_i116': 'lst = [1,2,3,4,5]\\n\\ndef fun(X):\\n    return x**2\\n\\ns_lst = list(map(fun,lst))\\nprint(sq_lst)', 's_lst': [1, 4, 9, 16, 25], '_i117': 'lst = [1,2,3,4,5]\\n\\ndef fun(X):\\n    return x**2\\n\\ns_lst = list(map(fun,lst))\\nprint(s_lst)', '_i118': 'lst = [1,2,3,4,5]\\n\\ndef fun(x):\\n    return x**2\\n\\ns_lst = list(map(fun,lst))\\nprint(s_lst)', '_i119': 'x = 33\\ndef fun():\\n    y=999\\n    print(y)\\nfun()', '_i120': 'x = 99\\n\\ndef fun():\\n    y=999\\n    print(y)\\nfun()\\nprint(y)', '_i121': 'x = 99\\n\\ndef fun():\\n    y=999\\n    print(y)\\n    print(global())\\nfun()\\nprint(x)', '_i122': 'x = 99\\n\\ndef fun():\\n    y=999\\n    print(y)\\n    print(globals())\\nfun()\\nprint(x)'}\n",
      "99\n"
     ]
    }
   ],
   "source": [
    "x = 99\n",
    "\n",
    "def fun():\n",
    "    y=999\n",
    "    print(y)\n",
    "    print(globals())\n",
    "fun()\n",
    "print(x)"
   ]
  },
  {
   "cell_type": "code",
   "execution_count": 123,
   "metadata": {},
   "outputs": [
    {
     "name": "stdout",
     "output_type": "stream",
     "text": [
      "999\n",
      "{'__name__': '__main__', '__doc__': 'Automatically created module for IPython interactive environment', '__package__': None, '__loader__': None, '__spec__': None, '__builtin__': <module 'builtins' (built-in)>, '__builtins__': <module 'builtins' (built-in)>, '_ih': ['', 'a = 10;\\nb = 20,\\nprint(\"a= \",a)\\nprint(\"b= \",b)\\nb,a=a,b\\nprint(\\'a= \\',a)\\nprint(\"b= \",b)', 'a = 10;\\nb = 20,\\nprint(\"a= \",a);\\nprint(\"b= \",b)\\nb,a=a,b\\nprint(\\'a= \\',a)\\nprint(\"b= \",b)', 'a = 10;\\nb = 20,\\nprint(\"a= \",a);\\nprint(\"b= \",b);\\nb,a=a,b\\nprint(\"a= \",a);\\nprint(\"b= \",b)', 'a = 10;\\nb = 20,\\nprint(\"a= \",a);\\nprint(\"b= \",b);\\nb,a=a,b\\nprint(\"a= \",a);\\nprint(\"b= \",b);', 'a = 10;\\nb = 20;\\nprint(\"a= \",a);\\nprint(\"b= \",b);\\nb,a=a,b\\nprint(\"a= \",a);\\nprint(\"b= \",b);', 'a = 10\\nb = 20\\nprint(\"a= \",a)\\nprint(\"b= \",b)\\nb,a=a,b\\nprint(\"a= \",a)\\nprint(\"b= \",b)', 'a=10\\nprint(a)\\nprint(type(a))', 'b = 99.9\\nprint(b)\\nprint(type(b))', 'b = 19.9\\nprint(b)\\nprint(type(b))', 'c = \"UNIQUE\"\\nprint(c)\\nprint(type(c))', 'd = 3+6j\\nprint(d)\\nprint(type(d))', 'e = 5>6\\nprint(e)\\nprint(type(e))', 'lst = [23,43,22,45,54,22]\\nprint(lst)\\nprint(type(lst))', 'lst = [10,19.9,\"UNIQUE\",True]\\nprint(lst)\\nprint(type(lst))\\n\\nprint(lst[0])\\nprint(lst[-4])', 'lst = [10,19.9,\"UNIQUE\",True]\\nprint(lst)\\nprint(type(lst))\\nlst.append(200)\\nprint(lst)\\n\\nlst.remove(200)\\nprint(lst)', 't = (2,18.8,\"RIshitha\",False)\\nprint(t)\\nprint(type(t))\\nprint(t[0])\\nprint(t[-4])', 't = (10,22.9,\"YBY\",True)\\nprint(t)\\nt.append(200)\\nprint(t)', 's = {10,20,30,40}\\nprint(s)\\nprint(type(s))\\nprint(s[0])', 's = {10,20,30,40}\\nprint(s)\\nprint(type(s))\\ns.add(201)\\nprint(s)\\ns.remove(201)\\nprint(s)\\ns.add(32)\\nprint(s)', 's = {10,20,30,40}\\nprint(s)\\nprint(type(s))\\ns.add(201)\\nprint(s)\\ns.remove(201)\\nprint(s)\\ns.add(32)\\nprint(s)\\ns.add(12)\\nprint(S)', 's = {10,20,30,40}\\nprint(s)\\nprint(type(s))\\ns.add(201)\\nprint(s)\\ns.remove(201)\\nprint(s)\\ns.add(32)\\nprint(s)\\ns.add(12)\\nprint(s)', 's = {10,20,30,40}\\nprint(s)\\nprint(type(s))\\ns.add(201)\\nprint(s)\\ns.remove(201)\\nprint(s)\\ns.add(32)\\nprint(s)\\ns.add(123)\\nprint(s)', 's = {10,20,30,40}\\nprint(s)\\nprint(type(s))\\ns.add(201)\\nprint(s)\\ns.remove(201)\\nprint(s)\\ns.add(32)\\nprint(s)\\ns.add(123)\\nprint(s)\\ns.add(123)\\nprint(s)', 's = {10,20,30,40}\\nprint(s)\\nprint(type(s))\\ns.add(201)\\nprint(s)\\ns.remove(201)\\nprint(s)\\ns.add(32)\\nprint(s)\\ns.add(123)\\nprint(s)\\ns.add(343)\\nprint(s)', 'd = {\"Andhra Pradesh\":\" Vijayawada\",\"Telengana\":\"Hyderbad\",\"Maharastra\":\"Mumbai\"}\\nprint(d)\\nprint(type(d))', 'd = {\"Andhra Pradesh\":\" Vijayawada\",\"Telengana\":\"Hyderbad\",\"Maharastra\":\"Mumbai\"}\\nprint(d)\\nprint(type(d))\\nd[\"Tamilnadu\"]= \"chennai\"\\nprint(d)', 'd = {\"Andhra Pradesh\":\" Vijayawada\",\"Telengana\":\"Hyderbad\",\"Maharastra\":\"Mumbai\"}\\nprint(d)\\nprint(type(d))\\nd[\"Tamilnadu\"]= \"chennai\"\\nprint(d)\\nd.pop(\"Tamilnau\")\\nd', 'd = {\"Andhra Pradesh\":\" Vijayawada\",\"Telengana\":\"Hyderbad\",\"Maharastra\":\"Mumbai\"}\\nprint(d)\\nprint(type(d))\\nd[\"Tamilnadu\"]= \"chennai\"\\nprint(d)\\nd.pop(\"Tamilnau\")\\nprint(d)', 'd = {\"Andhra Pradesh\":\" Vijayawada\",\"Telengana\":\"Hyderbad\",\"Maharastra\":\"Mumbai\"}\\nprint(d)\\nprint(type(d))\\nd[\"Tamilnadu\"]= \"chennai\"\\nprint(d)\\nd.pop(\"Tamilnadu\")\\nprint(d)', 'a = 9899\\nprint(a)\\nprint(type(a))\\nb = float(a)\\nprint(b)\\nprint(type(b))', 'a = 9899.44\\nprint(a)\\nprint(type(a))\\nb = int(a)\\nprint(b)\\nprint(type(b))', 'a = 9899.44\\nprint(a)\\nprint(type(a))\\nb = complex(a)\\nprint(b)\\nprint(type(b))', 'a = 9899\\nprint(a)\\nprint(type(a))\\nb = str(a)\\nprint(b)\\nprint(type(b))', 'a = 10\\nprint(a)\\nprint(id)', 'a = 10\\nprint(a)\\nprint(id(a))', 'a = 10\\nb=10\\nprint(a)\\nprint(id(a))\\nprint(id(b))', 'lis=[23,43,45,22]\\nprint(lis)\\nprint(type(lis))\\n\\nlis.append(200)\\nprint(lis)', 'lis1=[23,43,45,22]\\nprint(lis)\\nprint(type(lis))\\n\\nprint(lis is lis1)', 'def mul():\\n    a=10\\n    b=20\\n    c=a*b\\n    print(c)\\nmul()', 'def mul(x,y):\\n    c = x*y\\n    print(c)\\nmul(10,20)', 'def mul():\\n    a=10\\n    b=20\\n    c=a*b\\n    return c\\nre = mul()\\nprint(re)', 'def mul(x,y)\\n    c = x*y\\n    return c\\nres =mul(10,20)\\nprint(res)', 'def mul(x,y):\\n    c = x*y\\n    return c\\nres =mul(10,20)\\nprint(res)', 'def p(a,b):\\n    c = a**b\\n    print(c)\\np(2,5)', 'def p(a,b):\\n    c = a**b\\n    print(c)\\np(2,5)\\np(5,2)', 'def p(a,b):\\n    c = a**b\\n    print(c)\\np(2,5)\\np(5,2)\\np(2)', 'def p(a,b=0):\\n    c = a**b\\n    print(c)\\n\\np(2)', 'def p(a,b=0):\\n    c = a**b\\n    print(c)\\np(2)\\np(5,2)', 'def p(a,b):\\n    c = a**b\\n    print(c)\\np(a=2,b=4)\\np(a=5,b=2)', 'def pizza_toppings():\\n    print(toppings)\\n\\npizza_toppings(\"cheese\")\\npizza_toppings(\"cheese\",\"onion\",\"olives\",\"corn\")', 'def pizza_toppings():\\n    print(toppings)\\n\\n#pizza_toppings(\"cheese\")\\npizza_toppings(\"cheese\",\"onion\",\"olives\",\"corn\")', 'def pizza_toppings():\\n    print(toppings)\\n    print(type(toppings))\\n\\n#pizza_toppings(\"cheese\")\\npizza_toppings(\"cheese\",\"onion\",\"olives\",\"corn\")', 'def pizza_toppings(*toppings):\\n    print(toppings)\\n    print(type(toppings))\\n\\n#pizza_toppings(\"cheese\")\\npizza_toppings(\"cheese\",\"onion\",\"olives\",\"corn\")', 'def pizza_toppings(*toppings):\\n    print(toppings)\\n    print(type(toppings))\\n\\n#pizza_toppings(\"cheese\",\"thin\")\\npizza_toppings(\"cheese\",\"onion\",\"olives\",\"corn\")', 'def collect(**data):\\n    print(data)\\ncollect(name=\"Rishitha\", age=23,avg=55,gender=\"F\")', 'def fun():\\n    a=10\\n    b=20\\n    c=30\\n    return a,b,c\\nprint(fun())', 'def func1():\\n    x=50\\n    return x\\nfunc1()\\nprint(x)', 'x=50\\ndef func1():\\n    x=50\\n    return x\\nfunc1()\\nprint(x)', 'x=50\\ndef func1():\\n    #x=50\\n    return x\\nfunc1()\\nprint(x)', 'def func1():\\n    x=50\\n    return x\\nfunc1()\\nprint(x)', 'def func1():\\n    x=50\\n    return x\\nfunc1()\\nprint(x)', 'def func1():\\n    x=50\\n    return x\\nfunc1()\\nprint(x)', 'def func1():\\n    x=50\\n    return x\\nfunc1()\\nprint(x)', 'def func1():\\n    y=50\\n    return x\\nfunc1()\\nprint(x)', 'def func1():\\n    y=50\\n    return x\\nfunc1()\\nprint(y)', 'def func1():\\n    y=50\\n    return y\\nfunc1()\\nprint(y)', 'def fun():\\n    a=10\\n    b=20\\n    c=30\\n    return a,b,c\\nres1,res2,re=fun()\\nprint(res1)\\nprint(res2)\\nprint(re)', 'print(\"enter the numerator\")', 'print(\"enter the numerator\")\\nnum = input()\\nprint(\"enter the denominator\")\\nden = input()\\n\\nres = num/den\\nprint(res)', 'num = input(\"enter the numerator\")\\nnum \\nden = input(\"enter the denominator\")\\nden \\n\\nres = num/den\\nprint(res)', 'num = int(input(\"enter the numerator\"))\\nnum \\nden = int(input(\"enter the denominator\"))\\nden \\n\\nres = num/den\\nprint(res)', 'import sys\\n\\nprint(sys.argv[0])\\nprint(sys.argv[1])\\nprint(sys.argv[2])\\n\\nres = int(sys.argv[1]/int(sys.argv[2]))\\nprint(res)', 'import sys\\n\\nprint(sys.argv[0])\\nprint(sys.argv[1])\\nprint(sys.argv[2])\\n\\nres = int(sys.argv[1])/int(sys.argv[2]))\\nprint(res)', 'import sys\\n\\nprint(sys.argv[0])\\nprint(sys.argv[1])\\nprint(sys.argv[2])\\n\\nres = int(sys.argv[1])/int(sys.argv[2])\\nprint(res)', 'import sys\\n\\nprint(sys.argv[0])\\nprint(sys.argv[1])\\nprint(sys.argv[2])\\n\\nr = int(sys.argv[1])/int(sys.argv[2])\\nprint(r)', 'import sys\\n\\nprint(sys.argv[0])\\nprint(sys.argv[1])\\nprint(sys.argv[2])\\n\\nr = sys.argv[1]/sys.argv[2]\\nprint(r)', 'import sys\\n\\nprint(sys.argv[0])\\nprint(sys.argv[1])\\nprint(sys.argv[2])\\n\\nr = int(sys.argv[1])/int(sys.argv[2])\\nprint(r)', 'if True:\\n    print(\"condition i true\")', 'if False:\\n    print(\"condition is true\")', 'if False:\\n    print(\"condition is true\")', 'n = int(input(\"enter a number\"))\\nif n%2==0:\\n    print(n,\"is even\")', 'n = int(input(\"enter a number\"))\\nif n%2==0:\\n    print(n,\"is even\")\\n    ', 'n = int(input(\"enter a number \\\\n\"))\\nif n%2==0:\\n    print(n,\"is even\")\\n    ', 'n = int(input(\"enter a number \\\\n\"))\\nif n%2==0:\\n    print(n,\"is even\")\\nelse:\\n    print(n,\"is odd\")', 'n = int(input(\"enter a number \\\\n\"))\\nif n%2==0:\\n    print(\"is even\")\\nelse:\\n    print(n,\"is odd\")', 'n = int(input(\"enter a number \\\\n\"))\\nif n%2==0:\\n    print(\"is even\")\\nelse:\\n    print(n,\"is odd\")', 'n = int(input(\"enter a number \\\\n\"))\\nif n%2==0:\\n    print(n,\"is even\")\\nelse:\\n    print(n,\"is odd\")', 'n = int(input(\"enter a number \\\\n\"))\\nif n%2==0:\\n    print(n,\"is even\")\\nelse:\\n    print(n,\"is odd\")', 'a = int(input(\"enter 1st number\"))\\nb = int(input(\"enter 2st number\"))\\nc = int(input(\"enter 3st number\"))\\n\\nif a>b and a>c:\\n    print(a,\"is the largest\")\\nelif b>c:\\n    print(b,\"is the largest\")\\nelse:\\n    print(c,\"is the largest\")', 'a=13\\nif a%3==0 or a%5==0:\\n    print(a,\"is divisible by either  3 or 5\")\\nelse:\\n    print(b,\"is not divisible by neither 3 or 5\")', 'a= 13\\nif a%3==0 or a%5==0:\\n    print(a,\"is divisible by either  3 or 5\")\\nelse:\\n    print(b,\"is not divisible by neither 3 or 5\")', 'a= 23\\nif a%3==0 or a%5==0:\\n    print(a,\"is divisible by either  3 or 5\")\\nelse:\\n    print(b,\"is not divisible by neither 3 or 5\")', 'a= 10\\nif a%3==0 or a%5==0:\\n    print(a,\"is divisible by either  3 or 5\")\\nelse:\\n    print(b,\"is not divisible by neither 3 or 5\")', 'n = int(input(\"enter a number \\\\n\"))\\n\\nif not (n%2==0):\\n    print(n,\"odd number\")\\nelse\\n    print(n,\"even number\")', 'n = int(input(\"enter a number \\\\n\"))\\n\\nif not (n%2==0):\\n    print(n,\"odd number\")\\nelse:\\n    print(n,\"even number\")', 'lst=[10,20,30,40,50]\\n\\ni=0\\nwhile i<5:\\n    print(lst[i])\\n    i=i+1', 'lst=[10,20,30,40,50]\\n\\nfor i in lst:\\n    print(i)', 'print(range(5))', 'n = int(input(\"Enter a number\\\\n\"))\\n\\nfor i in range(2,n+1):\\n    if n%i==0:\\n        break\\nif i==n:\\n    print(n,\"is prime\")\\nelse:\\n    print(n,\"is not prime\")', 'even_sum,odd_sum = 0,0\\nn = int(input(\"enter the value of n:\\\\n\"))\\nfor i in range(1,n+1):\\n    if i%2==0:\\n        even_sum +=i\\n        continue\\n    odd_sum += i\\n    \\nprint(\"sum of all even numbers is:, even_sum\")\\nprint(\"sum of all odd numbers is:,odd_sum\")', 'even_sum,odd_sum = 0,0\\nn = int(input(\"enter the value of n:\\\\n\"))\\nfor i in range(1,n+1):\\n    if i%2==0:\\n        even_sum +=i\\n        continue\\n    odd_sum += i\\n    \\nprint(\"sum of all even numbers is:\", even_sum)\\nprint(\"sum of all odd numbers is:\",odd_sum)', 'even_sum,odd_sum = 0,0\\nn = int(input(\"enter the value of n:\\\\n\"))\\nfor i in range(1,n+1):\\n    if i%2==0:\\n        even_sum += i\\n        continue\\n    odd_sum += i\\n    \\nprint(\"sum of all even numbers is:\", even_sum)\\nprint(\"sum of all odd numbers is:\",odd_sum)', 'even_sum,odd_sum = 0,0\\nn = int(input(\"enter the value of n:\\\\n\"))\\nfor i in range(1,n+1):\\n    if i%2==0:\\n        even_sum += i\\n        continue\\n    odd_sum += i\\n    \\nprint(\"sum of all even numbers is:\", even_sum)\\nprint(\"sum of all odd numbers is:\",odd_sum)', 'ab = (lambda num,p : num**p) (2,5)\\nprint(res)', 'ab = (lambda num,p : num**p) (2,5)\\nprint(ab)', 'da = lambda num,den : num/den\\nd=fun(100,2)\\nprint(d)\\n\\nd1 = fun(10,2)\\nprint(d1)', 'da = lambda num,den : num/den\\nd=da(100,2)\\nprint(d)\\n\\nd1 = da(10,2)\\nprint(d1)', 'lst = [10,22,35,67,55]\\ndef fun(x):\\n        if x%2 == 0:\\n            return True\\n        else:\\n            return False\\nevn_lst = list(filter(fun,lst))\\nprint(evn_lst)', 'lst = [10,22,8,67,55]\\ndef fun(x):\\n        if x%2 == 0:\\n            return True\\n        else:\\n            return False\\nevn_lst = list(filter(fun,lst))\\nprint(evn_lst)', 'lst = [21,343,56,31,34,45]\\n\\nresult = list(filter(lambda x: (x%2 ==0),lst))\\nprint(result)', 'from functools import reduce\\n\\nlst = [1,2,3,4,5]\\n\\ndef fun(x,y)', 'from functools import reduce\\n\\nlst = [1,2,3,4,5]\\n\\ndef fun(x,y):\\n    return x+y\\nres= reduce(fun,lst)\\nprint(res)', 'lst = [21,343,56,31,34,45]\\n\\nresult = reduce(lambda x,y: x+y,lst))\\nprint(result)', 'lst = [21,343,56,31,34,45]\\n\\nresult = reduce(lambda x,y: x+y,lst)\\nprint(result)', 'lst = [1,2,3,4,5]\\n\\ndef fun():\\n    return x**2\\n\\ns_lst = list(map(fun,lst))\\nprint(sq_lst)', 'lst = [1,2,3,4,5]\\n\\ndef fun(X):\\n    return x**2\\n\\ns_lst = list(map(fun,lst))\\nprint(sq_lst)', 'lst = [1,2,3,4,5]\\n\\ndef fun(X):\\n    return x**2\\n\\ns_lst = list(map(fun,lst))\\nprint(s_lst)', 'lst = [1,2,3,4,5]\\n\\ndef fun(x):\\n    return x**2\\n\\ns_lst = list(map(fun,lst))\\nprint(s_lst)', 'x = 33\\ndef fun():\\n    y=999\\n    print(y)\\nfun()', 'x = 99\\n\\ndef fun():\\n    y=999\\n    print(y)\\nfun()\\nprint(y)', 'x = 99\\n\\ndef fun():\\n    y=999\\n    print(y)\\n    print(global())\\nfun()\\nprint(x)', 'x = 99\\n\\ndef fun():\\n    y=999\\n    print(y)\\n    print(globals())\\nfun()\\nprint(x)', 'x = 99\\ndef fun():\\n    y=999\\n    print(y)\\n    print(globals())\\n    print(locals())\\n    \\n    \\nfun()\\nprint(x)'], '_oh': {}, '_dh': ['C:\\\\Users\\\\rishitha1905'], 'In': ['', 'a = 10;\\nb = 20,\\nprint(\"a= \",a)\\nprint(\"b= \",b)\\nb,a=a,b\\nprint(\\'a= \\',a)\\nprint(\"b= \",b)', 'a = 10;\\nb = 20,\\nprint(\"a= \",a);\\nprint(\"b= \",b)\\nb,a=a,b\\nprint(\\'a= \\',a)\\nprint(\"b= \",b)', 'a = 10;\\nb = 20,\\nprint(\"a= \",a);\\nprint(\"b= \",b);\\nb,a=a,b\\nprint(\"a= \",a);\\nprint(\"b= \",b)', 'a = 10;\\nb = 20,\\nprint(\"a= \",a);\\nprint(\"b= \",b);\\nb,a=a,b\\nprint(\"a= \",a);\\nprint(\"b= \",b);', 'a = 10;\\nb = 20;\\nprint(\"a= \",a);\\nprint(\"b= \",b);\\nb,a=a,b\\nprint(\"a= \",a);\\nprint(\"b= \",b);', 'a = 10\\nb = 20\\nprint(\"a= \",a)\\nprint(\"b= \",b)\\nb,a=a,b\\nprint(\"a= \",a)\\nprint(\"b= \",b)', 'a=10\\nprint(a)\\nprint(type(a))', 'b = 99.9\\nprint(b)\\nprint(type(b))', 'b = 19.9\\nprint(b)\\nprint(type(b))', 'c = \"UNIQUE\"\\nprint(c)\\nprint(type(c))', 'd = 3+6j\\nprint(d)\\nprint(type(d))', 'e = 5>6\\nprint(e)\\nprint(type(e))', 'lst = [23,43,22,45,54,22]\\nprint(lst)\\nprint(type(lst))', 'lst = [10,19.9,\"UNIQUE\",True]\\nprint(lst)\\nprint(type(lst))\\n\\nprint(lst[0])\\nprint(lst[-4])', 'lst = [10,19.9,\"UNIQUE\",True]\\nprint(lst)\\nprint(type(lst))\\nlst.append(200)\\nprint(lst)\\n\\nlst.remove(200)\\nprint(lst)', 't = (2,18.8,\"RIshitha\",False)\\nprint(t)\\nprint(type(t))\\nprint(t[0])\\nprint(t[-4])', 't = (10,22.9,\"YBY\",True)\\nprint(t)\\nt.append(200)\\nprint(t)', 's = {10,20,30,40}\\nprint(s)\\nprint(type(s))\\nprint(s[0])', 's = {10,20,30,40}\\nprint(s)\\nprint(type(s))\\ns.add(201)\\nprint(s)\\ns.remove(201)\\nprint(s)\\ns.add(32)\\nprint(s)', 's = {10,20,30,40}\\nprint(s)\\nprint(type(s))\\ns.add(201)\\nprint(s)\\ns.remove(201)\\nprint(s)\\ns.add(32)\\nprint(s)\\ns.add(12)\\nprint(S)', 's = {10,20,30,40}\\nprint(s)\\nprint(type(s))\\ns.add(201)\\nprint(s)\\ns.remove(201)\\nprint(s)\\ns.add(32)\\nprint(s)\\ns.add(12)\\nprint(s)', 's = {10,20,30,40}\\nprint(s)\\nprint(type(s))\\ns.add(201)\\nprint(s)\\ns.remove(201)\\nprint(s)\\ns.add(32)\\nprint(s)\\ns.add(123)\\nprint(s)', 's = {10,20,30,40}\\nprint(s)\\nprint(type(s))\\ns.add(201)\\nprint(s)\\ns.remove(201)\\nprint(s)\\ns.add(32)\\nprint(s)\\ns.add(123)\\nprint(s)\\ns.add(123)\\nprint(s)', 's = {10,20,30,40}\\nprint(s)\\nprint(type(s))\\ns.add(201)\\nprint(s)\\ns.remove(201)\\nprint(s)\\ns.add(32)\\nprint(s)\\ns.add(123)\\nprint(s)\\ns.add(343)\\nprint(s)', 'd = {\"Andhra Pradesh\":\" Vijayawada\",\"Telengana\":\"Hyderbad\",\"Maharastra\":\"Mumbai\"}\\nprint(d)\\nprint(type(d))', 'd = {\"Andhra Pradesh\":\" Vijayawada\",\"Telengana\":\"Hyderbad\",\"Maharastra\":\"Mumbai\"}\\nprint(d)\\nprint(type(d))\\nd[\"Tamilnadu\"]= \"chennai\"\\nprint(d)', 'd = {\"Andhra Pradesh\":\" Vijayawada\",\"Telengana\":\"Hyderbad\",\"Maharastra\":\"Mumbai\"}\\nprint(d)\\nprint(type(d))\\nd[\"Tamilnadu\"]= \"chennai\"\\nprint(d)\\nd.pop(\"Tamilnau\")\\nd', 'd = {\"Andhra Pradesh\":\" Vijayawada\",\"Telengana\":\"Hyderbad\",\"Maharastra\":\"Mumbai\"}\\nprint(d)\\nprint(type(d))\\nd[\"Tamilnadu\"]= \"chennai\"\\nprint(d)\\nd.pop(\"Tamilnau\")\\nprint(d)', 'd = {\"Andhra Pradesh\":\" Vijayawada\",\"Telengana\":\"Hyderbad\",\"Maharastra\":\"Mumbai\"}\\nprint(d)\\nprint(type(d))\\nd[\"Tamilnadu\"]= \"chennai\"\\nprint(d)\\nd.pop(\"Tamilnadu\")\\nprint(d)', 'a = 9899\\nprint(a)\\nprint(type(a))\\nb = float(a)\\nprint(b)\\nprint(type(b))', 'a = 9899.44\\nprint(a)\\nprint(type(a))\\nb = int(a)\\nprint(b)\\nprint(type(b))', 'a = 9899.44\\nprint(a)\\nprint(type(a))\\nb = complex(a)\\nprint(b)\\nprint(type(b))', 'a = 9899\\nprint(a)\\nprint(type(a))\\nb = str(a)\\nprint(b)\\nprint(type(b))', 'a = 10\\nprint(a)\\nprint(id)', 'a = 10\\nprint(a)\\nprint(id(a))', 'a = 10\\nb=10\\nprint(a)\\nprint(id(a))\\nprint(id(b))', 'lis=[23,43,45,22]\\nprint(lis)\\nprint(type(lis))\\n\\nlis.append(200)\\nprint(lis)', 'lis1=[23,43,45,22]\\nprint(lis)\\nprint(type(lis))\\n\\nprint(lis is lis1)', 'def mul():\\n    a=10\\n    b=20\\n    c=a*b\\n    print(c)\\nmul()', 'def mul(x,y):\\n    c = x*y\\n    print(c)\\nmul(10,20)', 'def mul():\\n    a=10\\n    b=20\\n    c=a*b\\n    return c\\nre = mul()\\nprint(re)', 'def mul(x,y)\\n    c = x*y\\n    return c\\nres =mul(10,20)\\nprint(res)', 'def mul(x,y):\\n    c = x*y\\n    return c\\nres =mul(10,20)\\nprint(res)', 'def p(a,b):\\n    c = a**b\\n    print(c)\\np(2,5)', 'def p(a,b):\\n    c = a**b\\n    print(c)\\np(2,5)\\np(5,2)', 'def p(a,b):\\n    c = a**b\\n    print(c)\\np(2,5)\\np(5,2)\\np(2)', 'def p(a,b=0):\\n    c = a**b\\n    print(c)\\n\\np(2)', 'def p(a,b=0):\\n    c = a**b\\n    print(c)\\np(2)\\np(5,2)', 'def p(a,b):\\n    c = a**b\\n    print(c)\\np(a=2,b=4)\\np(a=5,b=2)', 'def pizza_toppings():\\n    print(toppings)\\n\\npizza_toppings(\"cheese\")\\npizza_toppings(\"cheese\",\"onion\",\"olives\",\"corn\")', 'def pizza_toppings():\\n    print(toppings)\\n\\n#pizza_toppings(\"cheese\")\\npizza_toppings(\"cheese\",\"onion\",\"olives\",\"corn\")', 'def pizza_toppings():\\n    print(toppings)\\n    print(type(toppings))\\n\\n#pizza_toppings(\"cheese\")\\npizza_toppings(\"cheese\",\"onion\",\"olives\",\"corn\")', 'def pizza_toppings(*toppings):\\n    print(toppings)\\n    print(type(toppings))\\n\\n#pizza_toppings(\"cheese\")\\npizza_toppings(\"cheese\",\"onion\",\"olives\",\"corn\")', 'def pizza_toppings(*toppings):\\n    print(toppings)\\n    print(type(toppings))\\n\\n#pizza_toppings(\"cheese\",\"thin\")\\npizza_toppings(\"cheese\",\"onion\",\"olives\",\"corn\")', 'def collect(**data):\\n    print(data)\\ncollect(name=\"Rishitha\", age=23,avg=55,gender=\"F\")', 'def fun():\\n    a=10\\n    b=20\\n    c=30\\n    return a,b,c\\nprint(fun())', 'def func1():\\n    x=50\\n    return x\\nfunc1()\\nprint(x)', 'x=50\\ndef func1():\\n    x=50\\n    return x\\nfunc1()\\nprint(x)', 'x=50\\ndef func1():\\n    #x=50\\n    return x\\nfunc1()\\nprint(x)', 'def func1():\\n    x=50\\n    return x\\nfunc1()\\nprint(x)', 'def func1():\\n    x=50\\n    return x\\nfunc1()\\nprint(x)', 'def func1():\\n    x=50\\n    return x\\nfunc1()\\nprint(x)', 'def func1():\\n    x=50\\n    return x\\nfunc1()\\nprint(x)', 'def func1():\\n    y=50\\n    return x\\nfunc1()\\nprint(x)', 'def func1():\\n    y=50\\n    return x\\nfunc1()\\nprint(y)', 'def func1():\\n    y=50\\n    return y\\nfunc1()\\nprint(y)', 'def fun():\\n    a=10\\n    b=20\\n    c=30\\n    return a,b,c\\nres1,res2,re=fun()\\nprint(res1)\\nprint(res2)\\nprint(re)', 'print(\"enter the numerator\")', 'print(\"enter the numerator\")\\nnum = input()\\nprint(\"enter the denominator\")\\nden = input()\\n\\nres = num/den\\nprint(res)', 'num = input(\"enter the numerator\")\\nnum \\nden = input(\"enter the denominator\")\\nden \\n\\nres = num/den\\nprint(res)', 'num = int(input(\"enter the numerator\"))\\nnum \\nden = int(input(\"enter the denominator\"))\\nden \\n\\nres = num/den\\nprint(res)', 'import sys\\n\\nprint(sys.argv[0])\\nprint(sys.argv[1])\\nprint(sys.argv[2])\\n\\nres = int(sys.argv[1]/int(sys.argv[2]))\\nprint(res)', 'import sys\\n\\nprint(sys.argv[0])\\nprint(sys.argv[1])\\nprint(sys.argv[2])\\n\\nres = int(sys.argv[1])/int(sys.argv[2]))\\nprint(res)', 'import sys\\n\\nprint(sys.argv[0])\\nprint(sys.argv[1])\\nprint(sys.argv[2])\\n\\nres = int(sys.argv[1])/int(sys.argv[2])\\nprint(res)', 'import sys\\n\\nprint(sys.argv[0])\\nprint(sys.argv[1])\\nprint(sys.argv[2])\\n\\nr = int(sys.argv[1])/int(sys.argv[2])\\nprint(r)', 'import sys\\n\\nprint(sys.argv[0])\\nprint(sys.argv[1])\\nprint(sys.argv[2])\\n\\nr = sys.argv[1]/sys.argv[2]\\nprint(r)', 'import sys\\n\\nprint(sys.argv[0])\\nprint(sys.argv[1])\\nprint(sys.argv[2])\\n\\nr = int(sys.argv[1])/int(sys.argv[2])\\nprint(r)', 'if True:\\n    print(\"condition i true\")', 'if False:\\n    print(\"condition is true\")', 'if False:\\n    print(\"condition is true\")', 'n = int(input(\"enter a number\"))\\nif n%2==0:\\n    print(n,\"is even\")', 'n = int(input(\"enter a number\"))\\nif n%2==0:\\n    print(n,\"is even\")\\n    ', 'n = int(input(\"enter a number \\\\n\"))\\nif n%2==0:\\n    print(n,\"is even\")\\n    ', 'n = int(input(\"enter a number \\\\n\"))\\nif n%2==0:\\n    print(n,\"is even\")\\nelse:\\n    print(n,\"is odd\")', 'n = int(input(\"enter a number \\\\n\"))\\nif n%2==0:\\n    print(\"is even\")\\nelse:\\n    print(n,\"is odd\")', 'n = int(input(\"enter a number \\\\n\"))\\nif n%2==0:\\n    print(\"is even\")\\nelse:\\n    print(n,\"is odd\")', 'n = int(input(\"enter a number \\\\n\"))\\nif n%2==0:\\n    print(n,\"is even\")\\nelse:\\n    print(n,\"is odd\")', 'n = int(input(\"enter a number \\\\n\"))\\nif n%2==0:\\n    print(n,\"is even\")\\nelse:\\n    print(n,\"is odd\")', 'a = int(input(\"enter 1st number\"))\\nb = int(input(\"enter 2st number\"))\\nc = int(input(\"enter 3st number\"))\\n\\nif a>b and a>c:\\n    print(a,\"is the largest\")\\nelif b>c:\\n    print(b,\"is the largest\")\\nelse:\\n    print(c,\"is the largest\")', 'a=13\\nif a%3==0 or a%5==0:\\n    print(a,\"is divisible by either  3 or 5\")\\nelse:\\n    print(b,\"is not divisible by neither 3 or 5\")', 'a= 13\\nif a%3==0 or a%5==0:\\n    print(a,\"is divisible by either  3 or 5\")\\nelse:\\n    print(b,\"is not divisible by neither 3 or 5\")', 'a= 23\\nif a%3==0 or a%5==0:\\n    print(a,\"is divisible by either  3 or 5\")\\nelse:\\n    print(b,\"is not divisible by neither 3 or 5\")', 'a= 10\\nif a%3==0 or a%5==0:\\n    print(a,\"is divisible by either  3 or 5\")\\nelse:\\n    print(b,\"is not divisible by neither 3 or 5\")', 'n = int(input(\"enter a number \\\\n\"))\\n\\nif not (n%2==0):\\n    print(n,\"odd number\")\\nelse\\n    print(n,\"even number\")', 'n = int(input(\"enter a number \\\\n\"))\\n\\nif not (n%2==0):\\n    print(n,\"odd number\")\\nelse:\\n    print(n,\"even number\")', 'lst=[10,20,30,40,50]\\n\\ni=0\\nwhile i<5:\\n    print(lst[i])\\n    i=i+1', 'lst=[10,20,30,40,50]\\n\\nfor i in lst:\\n    print(i)', 'print(range(5))', 'n = int(input(\"Enter a number\\\\n\"))\\n\\nfor i in range(2,n+1):\\n    if n%i==0:\\n        break\\nif i==n:\\n    print(n,\"is prime\")\\nelse:\\n    print(n,\"is not prime\")', 'even_sum,odd_sum = 0,0\\nn = int(input(\"enter the value of n:\\\\n\"))\\nfor i in range(1,n+1):\\n    if i%2==0:\\n        even_sum +=i\\n        continue\\n    odd_sum += i\\n    \\nprint(\"sum of all even numbers is:, even_sum\")\\nprint(\"sum of all odd numbers is:,odd_sum\")', 'even_sum,odd_sum = 0,0\\nn = int(input(\"enter the value of n:\\\\n\"))\\nfor i in range(1,n+1):\\n    if i%2==0:\\n        even_sum +=i\\n        continue\\n    odd_sum += i\\n    \\nprint(\"sum of all even numbers is:\", even_sum)\\nprint(\"sum of all odd numbers is:\",odd_sum)', 'even_sum,odd_sum = 0,0\\nn = int(input(\"enter the value of n:\\\\n\"))\\nfor i in range(1,n+1):\\n    if i%2==0:\\n        even_sum += i\\n        continue\\n    odd_sum += i\\n    \\nprint(\"sum of all even numbers is:\", even_sum)\\nprint(\"sum of all odd numbers is:\",odd_sum)', 'even_sum,odd_sum = 0,0\\nn = int(input(\"enter the value of n:\\\\n\"))\\nfor i in range(1,n+1):\\n    if i%2==0:\\n        even_sum += i\\n        continue\\n    odd_sum += i\\n    \\nprint(\"sum of all even numbers is:\", even_sum)\\nprint(\"sum of all odd numbers is:\",odd_sum)', 'ab = (lambda num,p : num**p) (2,5)\\nprint(res)', 'ab = (lambda num,p : num**p) (2,5)\\nprint(ab)', 'da = lambda num,den : num/den\\nd=fun(100,2)\\nprint(d)\\n\\nd1 = fun(10,2)\\nprint(d1)', 'da = lambda num,den : num/den\\nd=da(100,2)\\nprint(d)\\n\\nd1 = da(10,2)\\nprint(d1)', 'lst = [10,22,35,67,55]\\ndef fun(x):\\n        if x%2 == 0:\\n            return True\\n        else:\\n            return False\\nevn_lst = list(filter(fun,lst))\\nprint(evn_lst)', 'lst = [10,22,8,67,55]\\ndef fun(x):\\n        if x%2 == 0:\\n            return True\\n        else:\\n            return False\\nevn_lst = list(filter(fun,lst))\\nprint(evn_lst)', 'lst = [21,343,56,31,34,45]\\n\\nresult = list(filter(lambda x: (x%2 ==0),lst))\\nprint(result)', 'from functools import reduce\\n\\nlst = [1,2,3,4,5]\\n\\ndef fun(x,y)', 'from functools import reduce\\n\\nlst = [1,2,3,4,5]\\n\\ndef fun(x,y):\\n    return x+y\\nres= reduce(fun,lst)\\nprint(res)', 'lst = [21,343,56,31,34,45]\\n\\nresult = reduce(lambda x,y: x+y,lst))\\nprint(result)', 'lst = [21,343,56,31,34,45]\\n\\nresult = reduce(lambda x,y: x+y,lst)\\nprint(result)', 'lst = [1,2,3,4,5]\\n\\ndef fun():\\n    return x**2\\n\\ns_lst = list(map(fun,lst))\\nprint(sq_lst)', 'lst = [1,2,3,4,5]\\n\\ndef fun(X):\\n    return x**2\\n\\ns_lst = list(map(fun,lst))\\nprint(sq_lst)', 'lst = [1,2,3,4,5]\\n\\ndef fun(X):\\n    return x**2\\n\\ns_lst = list(map(fun,lst))\\nprint(s_lst)', 'lst = [1,2,3,4,5]\\n\\ndef fun(x):\\n    return x**2\\n\\ns_lst = list(map(fun,lst))\\nprint(s_lst)', 'x = 33\\ndef fun():\\n    y=999\\n    print(y)\\nfun()', 'x = 99\\n\\ndef fun():\\n    y=999\\n    print(y)\\nfun()\\nprint(y)', 'x = 99\\n\\ndef fun():\\n    y=999\\n    print(y)\\n    print(global())\\nfun()\\nprint(x)', 'x = 99\\n\\ndef fun():\\n    y=999\\n    print(y)\\n    print(globals())\\nfun()\\nprint(x)', 'x = 99\\ndef fun():\\n    y=999\\n    print(y)\\n    print(globals())\\n    print(locals())\\n    \\n    \\nfun()\\nprint(x)'], 'Out': {}, 'get_ipython': <bound method InteractiveShell.get_ipython of <ipykernel.zmqshell.ZMQInteractiveShell object at 0x000001FFFFC4CE88>>, 'exit': <IPython.core.autocall.ZMQExitAutocall object at 0x000001FFFFCDAC48>, 'quit': <IPython.core.autocall.ZMQExitAutocall object at 0x000001FFFFCDAC48>, '_': '', '__': '', '___': '', '_i': 'x = 99\\n\\ndef fun():\\n    y=999\\n    print(y)\\n    print(globals())\\nfun()\\nprint(x)', '_ii': 'x = 99\\n\\ndef fun():\\n    y=999\\n    print(y)\\n    print(global())\\nfun()\\nprint(x)', '_iii': 'x = 99\\n\\ndef fun():\\n    y=999\\n    print(y)\\nfun()\\nprint(y)', '_i1': 'a = 10;\\nb = 20,\\nprint(\"a= \",a)\\nprint(\"b= \",b)\\nb,a=a,b\\nprint(\\'a= \\',a)\\nprint(\"b= \",b)', 'a': 10, 'b': 3, '_i2': 'a = 10;\\nb = 20,\\nprint(\"a= \",a);\\nprint(\"b= \",b)\\nb,a=a,b\\nprint(\\'a= \\',a)\\nprint(\"b= \",b)', '_i3': 'a = 10;\\nb = 20,\\nprint(\"a= \",a);\\nprint(\"b= \",b);\\nb,a=a,b\\nprint(\"a= \",a);\\nprint(\"b= \",b)', '_i4': 'a = 10;\\nb = 20,\\nprint(\"a= \",a);\\nprint(\"b= \",b);\\nb,a=a,b\\nprint(\"a= \",a);\\nprint(\"b= \",b);', '_i5': 'a = 10;\\nb = 20;\\nprint(\"a= \",a);\\nprint(\"b= \",b);\\nb,a=a,b\\nprint(\"a= \",a);\\nprint(\"b= \",b);', '_i6': 'a = 10\\nb = 20\\nprint(\"a= \",a)\\nprint(\"b= \",b)\\nb,a=a,b\\nprint(\"a= \",a)\\nprint(\"b= \",b)', '_i7': 'a=10\\nprint(a)\\nprint(type(a))', '_i8': 'b = 99.9\\nprint(b)\\nprint(type(b))', '_i9': 'b = 19.9\\nprint(b)\\nprint(type(b))', '_i10': 'c = \"UNIQUE\"\\nprint(c)\\nprint(type(c))', 'c': 4, '_i11': 'd = 3+6j\\nprint(d)\\nprint(type(d))', 'd': 50.0, '_i12': 'e = 5>6\\nprint(e)\\nprint(type(e))', 'e': False, '_i13': 'lst = [23,43,22,45,54,22]\\nprint(lst)\\nprint(type(lst))', 'lst': [1, 2, 3, 4, 5], '_i14': 'lst = [10,19.9,\"UNIQUE\",True]\\nprint(lst)\\nprint(type(lst))\\n\\nprint(lst[0])\\nprint(lst[-4])', '_i15': 'lst = [10,19.9,\"UNIQUE\",True]\\nprint(lst)\\nprint(type(lst))\\nlst.append(200)\\nprint(lst)\\n\\nlst.remove(200)\\nprint(lst)', '_i16': 't = (2,18.8,\"RIshitha\",False)\\nprint(t)\\nprint(type(t))\\nprint(t[0])\\nprint(t[-4])', 't': (10, 22.9, 'YBY', True), '_i17': 't = (10,22.9,\"YBY\",True)\\nprint(t)\\nt.append(200)\\nprint(t)', '_i18': 's = {10,20,30,40}\\nprint(s)\\nprint(type(s))\\nprint(s[0])', 's': {32, 40, 10, 20, 343, 123, 30}, '_i19': 's = {10,20,30,40}\\nprint(s)\\nprint(type(s))\\ns.add(201)\\nprint(s)\\ns.remove(201)\\nprint(s)\\ns.add(32)\\nprint(s)', '_i20': 's = {10,20,30,40}\\nprint(s)\\nprint(type(s))\\ns.add(201)\\nprint(s)\\ns.remove(201)\\nprint(s)\\ns.add(32)\\nprint(s)\\ns.add(12)\\nprint(S)', '_i21': 's = {10,20,30,40}\\nprint(s)\\nprint(type(s))\\ns.add(201)\\nprint(s)\\ns.remove(201)\\nprint(s)\\ns.add(32)\\nprint(s)\\ns.add(12)\\nprint(s)', '_i22': 's = {10,20,30,40}\\nprint(s)\\nprint(type(s))\\ns.add(201)\\nprint(s)\\ns.remove(201)\\nprint(s)\\ns.add(32)\\nprint(s)\\ns.add(123)\\nprint(s)', '_i23': 's = {10,20,30,40}\\nprint(s)\\nprint(type(s))\\ns.add(201)\\nprint(s)\\ns.remove(201)\\nprint(s)\\ns.add(32)\\nprint(s)\\ns.add(123)\\nprint(s)\\ns.add(123)\\nprint(s)', '_i24': 's = {10,20,30,40}\\nprint(s)\\nprint(type(s))\\ns.add(201)\\nprint(s)\\ns.remove(201)\\nprint(s)\\ns.add(32)\\nprint(s)\\ns.add(123)\\nprint(s)\\ns.add(343)\\nprint(s)', '_i25': 'd = {\"Andhra Pradesh\":\" Vijayawada\",\"Telengana\":\"Hyderbad\",\"Maharastra\":\"Mumbai\"}\\nprint(d)\\nprint(type(d))', '_i26': 'd = {\"Andhra Pradesh\":\" Vijayawada\",\"Telengana\":\"Hyderbad\",\"Maharastra\":\"Mumbai\"}\\nprint(d)\\nprint(type(d))\\nd[\"Tamilnadu\"]= \"chennai\"\\nprint(d)', '_i27': 'd = {\"Andhra Pradesh\":\" Vijayawada\",\"Telengana\":\"Hyderbad\",\"Maharastra\":\"Mumbai\"}\\nprint(d)\\nprint(type(d))\\nd[\"Tamilnadu\"]= \"chennai\"\\nprint(d)\\nd.pop(\"Tamilnau\")\\nd', '_i28': 'd = {\"Andhra Pradesh\":\" Vijayawada\",\"Telengana\":\"Hyderbad\",\"Maharastra\":\"Mumbai\"}\\nprint(d)\\nprint(type(d))\\nd[\"Tamilnadu\"]= \"chennai\"\\nprint(d)\\nd.pop(\"Tamilnau\")\\nprint(d)', '_i29': 'd = {\"Andhra Pradesh\":\" Vijayawada\",\"Telengana\":\"Hyderbad\",\"Maharastra\":\"Mumbai\"}\\nprint(d)\\nprint(type(d))\\nd[\"Tamilnadu\"]= \"chennai\"\\nprint(d)\\nd.pop(\"Tamilnadu\")\\nprint(d)', '_i30': 'a = 9899\\nprint(a)\\nprint(type(a))\\nb = float(a)\\nprint(b)\\nprint(type(b))', '_i31': 'a = 9899.44\\nprint(a)\\nprint(type(a))\\nb = int(a)\\nprint(b)\\nprint(type(b))', '_i32': 'a = 9899.44\\nprint(a)\\nprint(type(a))\\nb = complex(a)\\nprint(b)\\nprint(type(b))', '_i33': 'a = 9899\\nprint(a)\\nprint(type(a))\\nb = str(a)\\nprint(b)\\nprint(type(b))', '_i34': 'a = 10\\nprint(a)\\nprint(id)', '_i35': 'a = 10\\nprint(a)\\nprint(id(a))', '_i36': 'a = 10\\nb=10\\nprint(a)\\nprint(id(a))\\nprint(id(b))', '_i37': 'lis=[23,43,45,22]\\nprint(lis)\\nprint(type(lis))\\n\\nlis.append(200)\\nprint(lis)', 'lis': [23, 43, 45, 22, 200], '_i38': 'lis1=[23,43,45,22]\\nprint(lis)\\nprint(type(lis))\\n\\nprint(lis is lis1)', 'lis1': [23, 43, 45, 22], '_i39': 'def mul():\\n    a=10\\n    b=20\\n    c=a*b\\n    print(c)\\nmul()', 'mul': <function mul at 0x000001FFFFE9D1F8>, '_i40': 'def mul(x,y):\\n    c = x*y\\n    print(c)\\nmul(10,20)', '_i41': 'def mul():\\n    a=10\\n    b=20\\n    c=a*b\\n    return c\\nre = mul()\\nprint(re)', 're': 30, '_i42': 'def mul(x,y)\\n    c = x*y\\n    return c\\nres =mul(10,20)\\nprint(res)', '_i43': 'def mul(x,y):\\n    c = x*y\\n    return c\\nres =mul(10,20)\\nprint(res)', 'res': 15, '_i44': 'def p(a,b):\\n    c = a**b\\n    print(c)\\np(2,5)', 'p': <function p at 0x000001FFFFE9B1F8>, '_i45': 'def p(a,b):\\n    c = a**b\\n    print(c)\\np(2,5)\\np(5,2)', '_i46': 'def p(a,b):\\n    c = a**b\\n    print(c)\\np(2,5)\\np(5,2)\\np(2)', '_i47': 'def p(a,b=0):\\n    c = a**b\\n    print(c)\\n\\np(2)', '_i48': 'def p(a,b=0):\\n    c = a**b\\n    print(c)\\np(2)\\np(5,2)', '_i49': 'def p(a,b):\\n    c = a**b\\n    print(c)\\np(a=2,b=4)\\np(a=5,b=2)', '_i50': 'def pizza_toppings():\\n    print(toppings)\\n\\npizza_toppings(\"cheese\")\\npizza_toppings(\"cheese\",\"onion\",\"olives\",\"corn\")', 'pizza_toppings': <function pizza_toppings at 0x000001FFFFE9D558>, '_i51': 'def pizza_toppings():\\n    print(toppings)\\n\\n#pizza_toppings(\"cheese\")\\npizza_toppings(\"cheese\",\"onion\",\"olives\",\"corn\")', '_i52': 'def pizza_toppings():\\n    print(toppings)\\n    print(type(toppings))\\n\\n#pizza_toppings(\"cheese\")\\npizza_toppings(\"cheese\",\"onion\",\"olives\",\"corn\")', '_i53': 'def pizza_toppings(*toppings):\\n    print(toppings)\\n    print(type(toppings))\\n\\n#pizza_toppings(\"cheese\")\\npizza_toppings(\"cheese\",\"onion\",\"olives\",\"corn\")', '_i54': 'def pizza_toppings(*toppings):\\n    print(toppings)\\n    print(type(toppings))\\n\\n#pizza_toppings(\"cheese\",\"thin\")\\npizza_toppings(\"cheese\",\"onion\",\"olives\",\"corn\")', '_i55': 'def collect(**data):\\n    print(data)\\ncollect(name=\"Rishitha\", age=23,avg=55,gender=\"F\")', 'collect': <function collect at 0x000001FFFFE9D438>, '_i56': 'def fun():\\n    a=10\\n    b=20\\n    c=30\\n    return a,b,c\\nprint(fun())', 'fun': <function fun at 0x000001FFFFDF9A68>, '_i57': 'def func1():\\n    x=50\\n    return x\\nfunc1()\\nprint(x)', 'func1': <function func1 at 0x000001FFFFE9D0D8>, '_i58': 'x=50\\ndef func1():\\n    x=50\\n    return x\\nfunc1()\\nprint(x)', 'x': 99, '_i59': 'x=50\\ndef func1():\\n    #x=50\\n    return x\\nfunc1()\\nprint(x)', '_i60': '\\ndef func1():\\n    x=50\\n    return x\\nfunc1()\\nprint(x)', '_i61': 'def func1():\\n    x=50\\n    return x\\nfunc1()\\nprint(x)', '_i62': 'def func1():\\n    x=50\\n    return x\\nfunc1()\\nprint(x)', '_i63': 'def func1():\\n    x=50\\n    return x\\nfunc1()\\nprint(x)', '_i64': 'def func1():\\n    y=50\\n    return x\\nfunc1()\\nprint(x)', '_i65': 'def func1():\\n    y=50\\n    return x\\nfunc1()\\nprint(y)', '_i66': 'def func1():\\n    y=50\\n    return y\\nfunc1()\\nprint(y)', '_i67': 'def fun():\\n    a=10\\n    b=20\\n    c=30\\n    return a,b,c\\nres1,res2,re=fun()\\nprint(res1)\\nprint(res2)\\nprint(re)', 'res1': 10, 'res2': 20, '_i68': 'print(\"enter the numerator\")', '_i69': 'print(\"enter the numerator\")\\nnum = input()\\nprint(\"enter the denominator\")\\nden = input()\\n\\nres = num/den\\nprint(res)', 'num': 20, 'den': 2, '_i70': 'num = input(\"enter the numerator\")\\nnum \\nden = input(\"enter the denominator\")\\nden \\n\\nres = num/den\\nprint(res)', '_i71': 'num = int(input(\"enter the numerator\"))\\nnum \\nden = int(input(\"enter the denominator\"))\\nden \\n\\nres = num/den\\nprint(res)', '_i72': 'import sys\\n\\nprint(sys.argv[0])\\nprint(sys.argv[1])\\nprint(sys.argv[2])\\n\\nres = int(sys.argv[1]/int(sys.argv[2]))\\nprint(res)', 'sys': <module 'sys' (built-in)>, '_i73': 'import sys\\n\\nprint(sys.argv[0])\\nprint(sys.argv[1])\\nprint(sys.argv[2])\\n\\nres = int(sys.argv[1])/int(sys.argv[2]))\\nprint(res)', '_i74': 'import sys\\n\\nprint(sys.argv[0])\\nprint(sys.argv[1])\\nprint(sys.argv[2])\\n\\nres = int(sys.argv[1])/int(sys.argv[2])\\nprint(res)', '_i75': 'import sys\\n\\nprint(sys.argv[0])\\nprint(sys.argv[1])\\nprint(sys.argv[2])\\n\\nr = int(sys.argv[1])/int(sys.argv[2])\\nprint(r)', '_i76': 'import sys\\n\\nprint(sys.argv[0])\\nprint(sys.argv[1])\\nprint(sys.argv[2])\\n\\nr = sys.argv[1]/sys.argv[2]\\nprint(r)', '_i77': 'import sys\\n\\nprint(sys.argv[0])\\nprint(sys.argv[1])\\nprint(sys.argv[2])\\n\\nr = int(sys.argv[1])/int(sys.argv[2])\\nprint(r)', '_i78': 'if True:\\n    print(\"condition i true\")', '_i79': 'if False:\\n    print(\"condition is true\")', '_i80': 'if False:\\n    print(\"condition is true\")', '_i81': 'n = int(input(\"enter a number\"))\\nif n%2==0:\\n    print(n,\"is even\")', 'n': 5, '_i82': 'n = int(input(\"enter a number\"))\\nif n%2==0:\\n    print(n,\"is even\")\\n    ', '_i83': 'n = int(input(\"enter a number \\\\n\"))\\nif n%2==0:\\n    print(n,\"is even\")\\n    ', '_i84': 'n = int(input(\"enter a number \\\\n\"))\\nif n%2==0:\\n    print(n,\"is even\")\\nelse:\\n    print(n,\"is odd\")', '_i85': 'n = int(input(\"enter a number \\\\n\"))\\nif n%2==0:\\n    print(\"is even\")\\nelse:\\n    print(n,\"is odd\")', '_i86': 'n = int(input(\"enter a number \\\\n\"))\\nif n%2==0:\\n    print(\"is even\")\\nelse:\\n    print(n,\"is odd\")', '_i87': 'n = int(input(\"enter a number \\\\n\"))\\nif n%2==0:\\n    print(n,\"is even\")\\nelse:\\n    print(n,\"is odd\")', '_i88': 'n = int(input(\"enter a number \\\\n\"))\\nif n%2==0:\\n    print(n,\"is even\")\\nelse:\\n    print(n,\"is odd\")', '_i89': 'a = int(input(\"enter 1st number\"))\\nb = int(input(\"enter 2st number\"))\\nc = int(input(\"enter 3st number\"))\\n\\nif a>b and a>c:\\n    print(a,\"is the largest\")\\nelif b>c:\\n    print(b,\"is the largest\")\\nelse:\\n    print(c,\"is the largest\")', '_i90': 'a=13\\nif a%3==0 or a%5==0:\\n    print(a,\"is divisible by either  3 or 5\")\\nelse:\\n    print(b,\"is not divisible by neither 3 or 5\")', '_i91': 'a= 13\\nif a%3==0 or a%5==0:\\n    print(a,\"is divisible by either  3 or 5\")\\nelse:\\n    print(b,\"is not divisible by neither 3 or 5\")', '_i92': 'a= 23\\nif a%3==0 or a%5==0:\\n    print(a,\"is divisible by either  3 or 5\")\\nelse:\\n    print(b,\"is not divisible by neither 3 or 5\")', '_i93': 'a= 10\\nif a%3==0 or a%5==0:\\n    print(a,\"is divisible by either  3 or 5\")\\nelse:\\n    print(b,\"is not divisible by neither 3 or 5\")', '_i94': 'n = int(input(\"enter a number \\\\n\"))\\n\\nif not (n%2==0):\\n    print(n,\"odd number\")\\nelse\\n    print(n,\"even number\")', '_i95': 'n = int(input(\"enter a number \\\\n\"))\\n\\nif not (n%2==0):\\n    print(n,\"odd number\")\\nelse:\\n    print(n,\"even number\")', '_i96': 'lst=[10,20,30,40,50]\\n\\ni=0\\nwhile i<5:\\n    print(lst[i])\\n    i=i+1', 'i': 5, '_i97': 'lst=[10,20,30,40,50]\\n\\nfor i in lst:\\n    print(i)', '_i98': 'print(range(5))', '_i99': 'n = int(input(\"Enter a number\\\\n\"))\\n\\nfor i in range(2,n+1):\\n    if n%i==0:\\n        break\\nif i==n:\\n    print(n,\"is prime\")\\nelse:\\n    print(n,\"is not prime\")', '_i100': 'even_sum,odd_sum = 0,0\\nn = int(input(\"enter the value of n:\\\\n\"))\\nfor i in range(1,n+1):\\n    if i%2==0:\\n        even_sum +=i\\n        continue\\n    odd_sum += i\\n    \\nprint(\"sum of all even numbers is:, even_sum\")\\nprint(\"sum of all odd numbers is:,odd_sum\")', 'even_sum': 6, 'odd_sum': 9, '_i101': 'even_sum,odd_sum = 0,0\\nn = int(input(\"enter the value of n:\\\\n\"))\\nfor i in range(1,n+1):\\n    if i%2==0:\\n        even_sum +=i\\n        continue\\n    odd_sum += i\\n    \\nprint(\"sum of all even numbers is:\", even_sum)\\nprint(\"sum of all odd numbers is:\",odd_sum)', '_i102': 'even_sum,odd_sum = 0,0\\nn = int(input(\"enter the value of n:\\\\n\"))\\nfor i in range(1,n+1):\\n    if i%2==0:\\n        even_sum += i\\n        continue\\n    odd_sum += i\\n    \\nprint(\"sum of all even numbers is:\", even_sum)\\nprint(\"sum of all odd numbers is:\",odd_sum)', '_i103': 'even_sum,odd_sum = 0,0\\nn = int(input(\"enter the value of n:\\\\n\"))\\nfor i in range(1,n+1):\\n    if i%2==0:\\n        even_sum += i\\n        continue\\n    odd_sum += i\\n    \\nprint(\"sum of all even numbers is:\", even_sum)\\nprint(\"sum of all odd numbers is:\",odd_sum)', '_i104': 'ab = (lambda num,p : num**p) (2,5)\\nprint(res)', 'ab': 32, '_i105': 'ab = (lambda num,p : num**p) (2,5)\\nprint(ab)', '_i106': 'da = lambda num,den : num/den\\nd=fun(100,2)\\nprint(d)\\n\\nd1 = fun(10,2)\\nprint(d1)', 'da': <function <lambda> at 0x000001FFFFE9BDC8>, '_i107': 'da = lambda num,den : num/den\\nd=da(100,2)\\nprint(d)\\n\\nd1 = da(10,2)\\nprint(d1)', 'd1': 5.0, '_i108': 'lst = [10,22,35,67,55]\\ndef fun(x):\\n        if x%2 == 0:\\n            return True\\n        else:\\n            return False\\nevn_lst = list(filter(fun,lst))\\nprint(evn_lst)', 'evn_lst': [10, 22, 8], '_i109': 'lst = [10,22,8,67,55]\\ndef fun(x):\\n        if x%2 == 0:\\n            return True\\n        else:\\n            return False\\nevn_lst = list(filter(fun,lst))\\nprint(evn_lst)', '_i110': 'lst = [21,343,56,31,34,45]\\n\\nresult = list(filter(lambda x: (x%2 ==0),lst))\\nprint(result)', 'result': 530, '_i111': 'from functools import reduce\\n\\nlst = [1,2,3,4,5]\\n\\ndef fun(x,y)', '_i112': 'from functools import reduce\\n\\nlst = [1,2,3,4,5]\\n\\ndef fun(x,y):\\n    return x+y\\nres= reduce(fun,lst)\\nprint(res)', 'reduce': <built-in function reduce>, '_i113': 'lst = [21,343,56,31,34,45]\\n\\nresult = reduce(lambda x,y: x+y,lst))\\nprint(result)', '_i114': 'lst = [21,343,56,31,34,45]\\n\\nresult = reduce(lambda x,y: x+y,lst)\\nprint(result)', '_i115': 'lst = [1,2,3,4,5]\\n\\ndef fun():\\n    return x**2\\n\\ns_lst = list(map(fun,lst))\\nprint(sq_lst)', '_i116': 'lst = [1,2,3,4,5]\\n\\ndef fun(X):\\n    return x**2\\n\\ns_lst = list(map(fun,lst))\\nprint(sq_lst)', 's_lst': [1, 4, 9, 16, 25], '_i117': 'lst = [1,2,3,4,5]\\n\\ndef fun(X):\\n    return x**2\\n\\ns_lst = list(map(fun,lst))\\nprint(s_lst)', '_i118': 'lst = [1,2,3,4,5]\\n\\ndef fun(x):\\n    return x**2\\n\\ns_lst = list(map(fun,lst))\\nprint(s_lst)', '_i119': 'x = 33\\ndef fun():\\n    y=999\\n    print(y)\\nfun()', '_i120': 'x = 99\\n\\ndef fun():\\n    y=999\\n    print(y)\\nfun()\\nprint(y)', '_i121': 'x = 99\\n\\ndef fun():\\n    y=999\\n    print(y)\\n    print(global())\\nfun()\\nprint(x)', '_i122': 'x = 99\\n\\ndef fun():\\n    y=999\\n    print(y)\\n    print(globals())\\nfun()\\nprint(x)', '_i123': 'x = 99\\ndef fun():\\n    y=999\\n    print(y)\\n    print(globals())\\n    print(locals())\\n    \\n    \\nfun()\\nprint(x)'}\n",
      "{'y': 999}\n",
      "99\n"
     ]
    }
   ],
   "source": [
    "x = 99\n",
    "def fun():\n",
    "    y=999\n",
    "    print(y)\n",
    "    print(globals())\n",
    "    print(locals())\n",
    "    \n",
    "    \n",
    "fun()\n",
    "print(x)"
   ]
  },
  {
   "cell_type": "code",
   "execution_count": 124,
   "metadata": {},
   "outputs": [
    {
     "name": "stdout",
     "output_type": "stream",
     "text": [
      "999\n"
     ]
    }
   ],
   "source": [
    "x = 99\n",
    "def fun():\n",
    "    x=999\n",
    "    print(x)\n",
    "fun()"
   ]
  },
  {
   "cell_type": "code",
   "execution_count": 125,
   "metadata": {},
   "outputs": [
    {
     "name": "stdout",
     "output_type": "stream",
     "text": [
      "999\n"
     ]
    }
   ],
   "source": [
    "x = 99\n",
    "def fun():\n",
    "    global x\n",
    "    x =999\n",
    "    print(x)\n",
    "fun()"
   ]
  },
  {
   "cell_type": "markdown",
   "metadata": {},
   "source": [
    "Recursive function"
   ]
  },
  {
   "cell_type": "code",
   "execution_count": 128,
   "metadata": {},
   "outputs": [
    {
     "name": "stdout",
     "output_type": "stream",
     "text": [
      "Enter the number:\n",
      "5\n",
      "120\n"
     ]
    }
   ],
   "source": [
    "def fact(n):\n",
    "    if n==1:\n",
    "        return 1\n",
    "    else:\n",
    "        return n*fact(n-1)\n",
    "    \n",
    "num = int(input(\"Enter the number:\\n\"))\n",
    "print(fact(num))"
   ]
  },
  {
   "cell_type": "code",
   "execution_count": 129,
   "metadata": {},
   "outputs": [
    {
     "name": "stdout",
     "output_type": "stream",
     "text": [
      "Python\n",
      "o\n",
      "P\n",
      "y\n",
      "t\n",
      "h\n",
      "o\n",
      "n\n"
     ]
    }
   ],
   "source": [
    "s = \"Python\"\n",
    "print(s)\n",
    "print(s[4])\n",
    "\n",
    "for i in s:\n",
    "    print(i)\n",
    "\n"
   ]
  },
  {
   "cell_type": "code",
   "execution_count": 134,
   "metadata": {},
   "outputs": [
    {
     "name": "stdout",
     "output_type": "stream",
     "text": [
      "My name is Rishitha\n",
      "a\n",
      "My name is Rishitha\n",
      "My na\n"
     ]
    }
   ],
   "source": [
    "s = \"My name is Rishitha\"\n",
    "print(s)\n",
    "print(s[-1])\n",
    "print(s[::])\n",
    "print(s[0:5:])"
   ]
  },
  {
   "cell_type": "code",
   "execution_count": 135,
   "metadata": {},
   "outputs": [
    {
     "name": "stdout",
     "output_type": "stream",
     "text": [
      "My name is Rishitha\n",
      "M aei\n"
     ]
    }
   ],
   "source": [
    "s = \"My name is Rishitha\"\n",
    "print(s)\n",
    "print(s[0:9:2])\n"
   ]
  },
  {
   "cell_type": "code",
   "execution_count": 136,
   "metadata": {},
   "outputs": [
    {
     "name": "stdout",
     "output_type": "stream",
     "text": [
      "My name is Rishitha\n",
      "ihsiR \n"
     ]
    }
   ],
   "source": [
    "s = \"My name is Rishitha\"\n",
    "print(s)\n",
    "print(s[15:9:-1])"
   ]
  },
  {
   "cell_type": "code",
   "execution_count": 137,
   "metadata": {},
   "outputs": [
    {
     "name": "stdout",
     "output_type": "stream",
     "text": [
      "My name is Rishitha\n",
      "ahtihsiR si eman yM\n"
     ]
    }
   ],
   "source": [
    "s = \"My name is Rishitha\"\n",
    "print(s)\n",
    "print(s[::-1])"
   ]
  },
  {
   "cell_type": "code",
   "execution_count": 139,
   "metadata": {},
   "outputs": [
    {
     "name": "stdout",
     "output_type": "stream",
     "text": [
      "Enter the string:\n",
      "india\n",
      "ind\n",
      "ndi\n",
      "dia\n"
     ]
    }
   ],
   "source": [
    "s = input(\"Enter the string:\\n\")\n",
    "\n",
    "for i in range(0,len(s)-2):\n",
    "    print(s[i:i+3])"
   ]
  },
  {
   "cell_type": "code",
   "execution_count": 140,
   "metadata": {},
   "outputs": [
    {
     "name": "stdout",
     "output_type": "stream",
     "text": [
      "Enter the string:\n",
      "raju\n",
      "aj\n"
     ]
    }
   ],
   "source": [
    "s = input(\"Enter the string:\\n\")\n",
    "\n",
    "print(s[1:len(s)-1:])"
   ]
  },
  {
   "cell_type": "markdown",
   "metadata": {},
   "source": [
    "strings comparison"
   ]
  },
  {
   "cell_type": "code",
   "execution_count": 141,
   "metadata": {},
   "outputs": [
    {
     "name": "stdout",
     "output_type": "stream",
     "text": [
      "String value are unequal\n"
     ]
    }
   ],
   "source": [
    "s1 = \"Python\"\n",
    "s2 = \"Code\"\n",
    "if s1==s2:\n",
    "    print(\"String values are equal\")\n",
    "else:\n",
    "    print(\"String value are unequal\")"
   ]
  },
  {
   "cell_type": "code",
   "execution_count": 142,
   "metadata": {},
   "outputs": [
    {
     "name": "stdout",
     "output_type": "stream",
     "text": [
      "String value are unequal\n"
     ]
    }
   ],
   "source": [
    "s1 = \"Python\"\n",
    "s2 = \"Code\"\n",
    "if id(s1)==id(s2):\n",
    "    print(\"String values are equal\")\n",
    "else:\n",
    "    print(\"String value are unequal\")\n"
   ]
  },
  {
   "cell_type": "code",
   "execution_count": 144,
   "metadata": {},
   "outputs": [
    {
     "name": "stdout",
     "output_type": "stream",
     "text": [
      "String values are equal\n"
     ]
    }
   ],
   "source": [
    "s1 = \"Python\"\n",
    "s2 = \"Python\"\n",
    "if s1 is s2:\n",
    "    print(\"String values are equal\")\n",
    "else:\n",
    "    print(\"String value are unequal\")"
   ]
  }
 ],
 "metadata": {
  "kernelspec": {
   "display_name": "Python 3",
   "language": "python",
   "name": "python3"
  },
  "language_info": {
   "codemirror_mode": {
    "name": "ipython",
    "version": 3
   },
   "file_extension": ".py",
   "mimetype": "text/x-python",
   "name": "python",
   "nbconvert_exporter": "python",
   "pygments_lexer": "ipython3",
   "version": "3.7.4"
  }
 },
 "nbformat": 4,
 "nbformat_minor": 4
}
